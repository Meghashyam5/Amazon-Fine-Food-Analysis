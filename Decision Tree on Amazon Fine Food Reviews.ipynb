{
 "cells": [
  {
   "cell_type": "markdown",
   "metadata": {
    "_cell_guid": "b1076dfc-b9ad-4769-8c92-a6c4dae69d19",
    "_uuid": "8f2839f25d086af736a60e9eeb907d3b93b6e0e5",
    "collapsed": true
   },
   "source": [
    "# Decision Trees on Amazon Fine Food Reviews"
   ]
  },
  {
   "cell_type": "markdown",
   "metadata": {},
   "source": [
    "# Data Source: https://www.kaggle.com/snap/amazon-fine-food-reviews\n",
    "\n",
    "The Amazon Fine Food Reviews dataset consists of reviews of fine foods from Amazon.\n",
    "\n",
    "Number of reviews: 568,454\n",
    "Number of users: 256,059\n",
    "Number of products: 74,258\n",
    "Timespan: Oct 1999 - Oct 2012\n",
    "Number of Attributes/Columns in data: 10\n",
    "\n",
    "Attribute Information:\n",
    "\n",
    " 1. Id\n",
    " 2. ProductId - unique identifier for the product\n",
    " 3. UserId - unqiue identifier for the user\n",
    " 4. ProfileName\n",
    " 5. HelpfulnessNumerator - number of users who found the review helpful\n",
    " 6. HelpfulnessDenominator - number of users who indicated whether they found the review helpful or not\n",
    " 7. Score - rating between 1 and 5\n",
    " 8. Time - timestamp for the review\n",
    " 9. Summary - brief summary of the review\n",
    " 10.Text - text of the review\n",
    "\n",
    "Objective:\n",
    "\n",
    "* Given a review determine whether a review is positive or negative, by appling Decision Tree algorithm and deciding the best Feature generation technique for given problem. Also to report the metrics for each iteration. Time based splitting to be followed.\n",
    "\n",
    "\n",
    "[Q] How to determine if a review is positive or negative?\n",
    "\n",
    "[Ans] We could use the Score/Rating. A rating of 4 or 5 could be cosnidered a positive review. A review of 1 or 2 could be considered negative. A review of 3 is nuetral and ignored. This is an approximate and proxy way of determining the polarity (positivity/negativity) of a review."
   ]
  },
  {
   "cell_type": "markdown",
   "metadata": {},
   "source": [
    "# 1. Loading the data\n",
    "\n",
    "The dataset is available in two forms\n",
    "1. .csv file\n",
    "2. SQLite Database\n",
    "\n",
    "In order to load the data, We have used the SQLITE dataset as it easier to query the data and visualise the data efficiently.\n",
    "<br> \n",
    "\n",
    "Here as we only want to get the global sentiment of the recommendations (positive or negative), we will purposefully ignore all Scores equal to 3. If the score id above 3, then the recommendation wil be set to \"positive\". Otherwise, it will be set to \"negative\"."
   ]
  },
  {
   "cell_type": "code",
   "execution_count": 43,
   "metadata": {
    "_uuid": "2de5ade136607270b817027bec48af13926ce0bc",
    "collapsed": true
   },
   "outputs": [],
   "source": [
    "#import packages\n",
    "import warnings\n",
    "warnings.filterwarnings('ignore')\n",
    "import pandas as pd\n",
    "import numpy as np\n",
    "import matplotlib.pyplot as plt\n",
    "import seaborn as sns\n",
    "import string\n",
    "import sqlite3\n",
    "import re\n",
    "import nltk\n",
    "from nltk.corpus import stopwords\n",
    "from nltk.stem import PorterStemmer\n",
    "from nltk.stem import SnowballStemmer\n",
    "from nltk.stem.wordnet import WordNetLemmatizer\n",
    "from sklearn.neighbors import KNeighborsClassifier\n",
    "from sklearn.metrics import accuracy_score,precision_score,recall_score,confusion_matrix,classification_report,f1_score\n",
    "from sklearn.decomposition import TruncatedSVD\n",
    "from sklearn import cross_validation\n",
    "from sklearn.cross_validation import cross_val_score\n",
    "from sklearn.feature_extraction.text import CountVectorizer\n",
    "from sklearn.feature_extraction.text import TfidfVectorizer\n",
    "import gensim\n",
    "from sklearn.model_selection import train_test_split\n",
    "from sklearn import tree"
   ]
  },
  {
   "cell_type": "code",
   "execution_count": 44,
   "metadata": {
    "_uuid": "552ec4c818b733f4da4505cfa3cb085f5c1fa752",
    "collapsed": true
   },
   "outputs": [],
   "source": [
    "# creating sql connection string\n",
    "con = sqlite3.connect('../input/database.sqlite')"
   ]
  },
  {
   "cell_type": "code",
   "execution_count": 45,
   "metadata": {
    "_uuid": "ae8660a2fc4dac4b8bd30e2d58b14fa33a23820c",
    "collapsed": true
   },
   "outputs": [],
   "source": [
    "#filtering only positive and negative reviews i.e. \n",
    "# not taking into consideration those reviews with Score=3\n",
    "filtered_data = pd.read_sql_query(\"\"\"\n",
    "SELECT *\n",
    "FROM Reviews\n",
    "\n",
    "WHERE Score != 3\n",
    "\"\"\", con) \n",
    "\n",
    "# Give reviews with Score>3 a positive rating, and reviews with a score<3 a negative rating.\n",
    "def partition(x):\n",
    "    if x < 3:\n",
    "        return 'negative'\n",
    "    return 'positive'\n",
    "\n",
    "#changing reviews with score less than 3 to be positive and vice-versa\n",
    "actualScore = filtered_data['Score']\n",
    "positiveNegative = actualScore.map(partition) \n",
    "filtered_data['Score'] = positiveNegative"
   ]
  },
  {
   "cell_type": "code",
   "execution_count": 46,
   "metadata": {
    "_uuid": "830ee1a6d2a1103ee59d36d660c16d9fd26314e4"
   },
   "outputs": [
    {
     "data": {
      "text/html": [
       "<div>\n",
       "<style scoped>\n",
       "    .dataframe tbody tr th:only-of-type {\n",
       "        vertical-align: middle;\n",
       "    }\n",
       "\n",
       "    .dataframe tbody tr th {\n",
       "        vertical-align: top;\n",
       "    }\n",
       "\n",
       "    .dataframe thead th {\n",
       "        text-align: right;\n",
       "    }\n",
       "</style>\n",
       "<table border=\"1\" class=\"dataframe\">\n",
       "  <thead>\n",
       "    <tr style=\"text-align: right;\">\n",
       "      <th></th>\n",
       "      <th>Id</th>\n",
       "      <th>ProductId</th>\n",
       "      <th>UserId</th>\n",
       "      <th>ProfileName</th>\n",
       "      <th>HelpfulnessNumerator</th>\n",
       "      <th>HelpfulnessDenominator</th>\n",
       "      <th>Score</th>\n",
       "      <th>Time</th>\n",
       "      <th>Summary</th>\n",
       "      <th>Text</th>\n",
       "    </tr>\n",
       "  </thead>\n",
       "  <tbody>\n",
       "    <tr>\n",
       "      <th>0</th>\n",
       "      <td>1</td>\n",
       "      <td>B001E4KFG0</td>\n",
       "      <td>A3SGXH7AUHU8GW</td>\n",
       "      <td>delmartian</td>\n",
       "      <td>1</td>\n",
       "      <td>1</td>\n",
       "      <td>positive</td>\n",
       "      <td>1303862400</td>\n",
       "      <td>Good Quality Dog Food</td>\n",
       "      <td>I have bought several of the Vitality canned d...</td>\n",
       "    </tr>\n",
       "    <tr>\n",
       "      <th>1</th>\n",
       "      <td>2</td>\n",
       "      <td>B00813GRG4</td>\n",
       "      <td>A1D87F6ZCVE5NK</td>\n",
       "      <td>dll pa</td>\n",
       "      <td>0</td>\n",
       "      <td>0</td>\n",
       "      <td>negative</td>\n",
       "      <td>1346976000</td>\n",
       "      <td>Not as Advertised</td>\n",
       "      <td>Product arrived labeled as Jumbo Salted Peanut...</td>\n",
       "    </tr>\n",
       "    <tr>\n",
       "      <th>2</th>\n",
       "      <td>3</td>\n",
       "      <td>B000LQOCH0</td>\n",
       "      <td>ABXLMWJIXXAIN</td>\n",
       "      <td>Natalia Corres \"Natalia Corres\"</td>\n",
       "      <td>1</td>\n",
       "      <td>1</td>\n",
       "      <td>positive</td>\n",
       "      <td>1219017600</td>\n",
       "      <td>\"Delight\" says it all</td>\n",
       "      <td>This is a confection that has been around a fe...</td>\n",
       "    </tr>\n",
       "    <tr>\n",
       "      <th>3</th>\n",
       "      <td>4</td>\n",
       "      <td>B000UA0QIQ</td>\n",
       "      <td>A395BORC6FGVXV</td>\n",
       "      <td>Karl</td>\n",
       "      <td>3</td>\n",
       "      <td>3</td>\n",
       "      <td>negative</td>\n",
       "      <td>1307923200</td>\n",
       "      <td>Cough Medicine</td>\n",
       "      <td>If you are looking for the secret ingredient i...</td>\n",
       "    </tr>\n",
       "    <tr>\n",
       "      <th>4</th>\n",
       "      <td>5</td>\n",
       "      <td>B006K2ZZ7K</td>\n",
       "      <td>A1UQRSCLF8GW1T</td>\n",
       "      <td>Michael D. Bigham \"M. Wassir\"</td>\n",
       "      <td>0</td>\n",
       "      <td>0</td>\n",
       "      <td>positive</td>\n",
       "      <td>1350777600</td>\n",
       "      <td>Great taffy</td>\n",
       "      <td>Great taffy at a great price.  There was a wid...</td>\n",
       "    </tr>\n",
       "  </tbody>\n",
       "</table>\n",
       "</div>"
      ],
      "text/plain": [
       "   Id   ProductId          UserId                      ProfileName  \\\n",
       "0   1  B001E4KFG0  A3SGXH7AUHU8GW                       delmartian   \n",
       "1   2  B00813GRG4  A1D87F6ZCVE5NK                           dll pa   \n",
       "2   3  B000LQOCH0   ABXLMWJIXXAIN  Natalia Corres \"Natalia Corres\"   \n",
       "3   4  B000UA0QIQ  A395BORC6FGVXV                             Karl   \n",
       "4   5  B006K2ZZ7K  A1UQRSCLF8GW1T    Michael D. Bigham \"M. Wassir\"   \n",
       "\n",
       "   HelpfulnessNumerator  HelpfulnessDenominator     Score        Time  \\\n",
       "0                     1                       1  positive  1303862400   \n",
       "1                     0                       0  negative  1346976000   \n",
       "2                     1                       1  positive  1219017600   \n",
       "3                     3                       3  negative  1307923200   \n",
       "4                     0                       0  positive  1350777600   \n",
       "\n",
       "                 Summary                                               Text  \n",
       "0  Good Quality Dog Food  I have bought several of the Vitality canned d...  \n",
       "1      Not as Advertised  Product arrived labeled as Jumbo Salted Peanut...  \n",
       "2  \"Delight\" says it all  This is a confection that has been around a fe...  \n",
       "3         Cough Medicine  If you are looking for the secret ingredient i...  \n",
       "4            Great taffy  Great taffy at a great price.  There was a wid...  "
      ]
     },
     "execution_count": 46,
     "metadata": {},
     "output_type": "execute_result"
    }
   ],
   "source": [
    "filtered_data.shape #looking at the number of attributes and size of the data\n",
    "filtered_data.head()"
   ]
  },
  {
   "cell_type": "markdown",
   "metadata": {},
   "source": [
    "# 2. Time Based Splitting"
   ]
  },
  {
   "cell_type": "code",
   "execution_count": 47,
   "metadata": {
    "_uuid": "1592acfa10df316f82304a90696bc889e95afb29"
   },
   "outputs": [
    {
     "name": "stdout",
     "output_type": "stream",
     "text": [
      "(364173, 10)\n"
     ]
    },
    {
     "data": {
      "text/html": [
       "<div>\n",
       "<style scoped>\n",
       "    .dataframe tbody tr th:only-of-type {\n",
       "        vertical-align: middle;\n",
       "    }\n",
       "\n",
       "    .dataframe tbody tr th {\n",
       "        vertical-align: top;\n",
       "    }\n",
       "\n",
       "    .dataframe thead th {\n",
       "        text-align: right;\n",
       "    }\n",
       "</style>\n",
       "<table border=\"1\" class=\"dataframe\">\n",
       "  <thead>\n",
       "    <tr style=\"text-align: right;\">\n",
       "      <th></th>\n",
       "      <th>Id</th>\n",
       "      <th>ProductId</th>\n",
       "      <th>UserId</th>\n",
       "      <th>ProfileName</th>\n",
       "      <th>HelpfulnessNumerator</th>\n",
       "      <th>HelpfulnessDenominator</th>\n",
       "      <th>Score</th>\n",
       "      <th>Time</th>\n",
       "      <th>Summary</th>\n",
       "      <th>Text</th>\n",
       "    </tr>\n",
       "  </thead>\n",
       "  <tbody>\n",
       "    <tr>\n",
       "      <th>0</th>\n",
       "      <td>150524</td>\n",
       "      <td>0006641040</td>\n",
       "      <td>ACITT7DI6IDDL</td>\n",
       "      <td>shari zychinski</td>\n",
       "      <td>0</td>\n",
       "      <td>0</td>\n",
       "      <td>positive</td>\n",
       "      <td>1999-10-08 00:00:00</td>\n",
       "      <td>EVERY book is educational</td>\n",
       "      <td>this witty little book makes my son laugh at l...</td>\n",
       "    </tr>\n",
       "    <tr>\n",
       "      <th>1</th>\n",
       "      <td>150501</td>\n",
       "      <td>0006641040</td>\n",
       "      <td>AJ46FKXOVC7NR</td>\n",
       "      <td>Nicholas A Mesiano</td>\n",
       "      <td>2</td>\n",
       "      <td>2</td>\n",
       "      <td>positive</td>\n",
       "      <td>1999-10-25 00:00:00</td>\n",
       "      <td>This whole series is great way to spend time w...</td>\n",
       "      <td>I can remember seeing the show when it aired o...</td>\n",
       "    </tr>\n",
       "    <tr>\n",
       "      <th>2</th>\n",
       "      <td>451856</td>\n",
       "      <td>B00004CXX9</td>\n",
       "      <td>AIUWLEQ1ADEG5</td>\n",
       "      <td>Elizabeth Medina</td>\n",
       "      <td>0</td>\n",
       "      <td>0</td>\n",
       "      <td>positive</td>\n",
       "      <td>1999-12-02 00:00:00</td>\n",
       "      <td>Entertainingl Funny!</td>\n",
       "      <td>Beetlejuice is a well written movie ..... ever...</td>\n",
       "    </tr>\n",
       "    <tr>\n",
       "      <th>3</th>\n",
       "      <td>374359</td>\n",
       "      <td>B00004CI84</td>\n",
       "      <td>A344SMIA5JECGM</td>\n",
       "      <td>Vincent P. Ross</td>\n",
       "      <td>1</td>\n",
       "      <td>2</td>\n",
       "      <td>positive</td>\n",
       "      <td>1999-12-06 00:00:00</td>\n",
       "      <td>A modern day fairy tale</td>\n",
       "      <td>A twist of rumplestiskin captured on film, sta...</td>\n",
       "    </tr>\n",
       "    <tr>\n",
       "      <th>4</th>\n",
       "      <td>451855</td>\n",
       "      <td>B00004CXX9</td>\n",
       "      <td>AJH6LUC1UT1ON</td>\n",
       "      <td>The Phantom of the Opera</td>\n",
       "      <td>0</td>\n",
       "      <td>0</td>\n",
       "      <td>positive</td>\n",
       "      <td>2000-01-03 00:00:00</td>\n",
       "      <td>FANTASTIC!</td>\n",
       "      <td>Beetlejuice is an excellent and funny movie. K...</td>\n",
       "    </tr>\n",
       "  </tbody>\n",
       "</table>\n",
       "</div>"
      ],
      "text/plain": [
       "       Id   ProductId          UserId               ProfileName  \\\n",
       "0  150524  0006641040   ACITT7DI6IDDL           shari zychinski   \n",
       "1  150501  0006641040   AJ46FKXOVC7NR        Nicholas A Mesiano   \n",
       "2  451856  B00004CXX9   AIUWLEQ1ADEG5          Elizabeth Medina   \n",
       "3  374359  B00004CI84  A344SMIA5JECGM           Vincent P. Ross   \n",
       "4  451855  B00004CXX9   AJH6LUC1UT1ON  The Phantom of the Opera   \n",
       "\n",
       "   HelpfulnessNumerator  HelpfulnessDenominator     Score  \\\n",
       "0                     0                       0  positive   \n",
       "1                     2                       2  positive   \n",
       "2                     0                       0  positive   \n",
       "3                     1                       2  positive   \n",
       "4                     0                       0  positive   \n",
       "\n",
       "                  Time                                            Summary  \\\n",
       "0  1999-10-08 00:00:00                          EVERY book is educational   \n",
       "1  1999-10-25 00:00:00  This whole series is great way to spend time w...   \n",
       "2  1999-12-02 00:00:00                               Entertainingl Funny!   \n",
       "3  1999-12-06 00:00:00                            A modern day fairy tale   \n",
       "4  2000-01-03 00:00:00                                         FANTASTIC!   \n",
       "\n",
       "                                                Text  \n",
       "0  this witty little book makes my son laugh at l...  \n",
       "1  I can remember seeing the show when it aired o...  \n",
       "2  Beetlejuice is a well written movie ..... ever...  \n",
       "3  A twist of rumplestiskin captured on film, sta...  \n",
       "4  Beetlejuice is an excellent and funny movie. K...  "
      ]
     },
     "execution_count": 47,
     "metadata": {},
     "output_type": "execute_result"
    }
   ],
   "source": [
    "import datetime\n",
    "\n",
    "filtered_data[\"Time\"] = filtered_data[\"Time\"].map(lambda t: datetime.datetime.fromtimestamp(int(t)).strftime('%Y-%m-%d %H:%M:%S'))\n",
    "\n",
    "sortedData = filtered_data.sort_values('ProductId',axis=0,kind=\"quicksort\", ascending=True)\n",
    "final = sortedData.drop_duplicates(subset={\"UserId\",\"ProfileName\",\"Time\",\"Text\"},keep=\"first\",inplace=False)\n",
    "\n",
    "#sording data by timestamp so that it can be devided in train and test dataset for time based slicing.\n",
    "final = final.sort_values('Time',axis=0,kind=\"quicksort\", ascending=True).reset_index(drop=True)\n",
    "\n",
    "print(final.shape)\n",
    "final.head()"
   ]
  },
  {
   "cell_type": "markdown",
   "metadata": {
    "_uuid": "70b03924cb30a8cfbd721e63640507fcd0162323"
   },
   "source": [
    "# 3. Exploratory Data Analysis"
   ]
  },
  {
   "cell_type": "markdown",
   "metadata": {
    "_uuid": "e3cc2d8f929571a46feac3aada6dddfe1efe2ee0",
    "collapsed": true
   },
   "source": [
    "**3.1 Data Cleaning: Deduplication**"
   ]
  },
  {
   "cell_type": "markdown",
   "metadata": {
    "_uuid": "fafd0ea5755d05596da71d17f144e7970e241cab"
   },
   "source": [
    "It is observed (as shown in the table below) that the reviews data had many duplicate entries. Hence it was necessary to remove duplicates in order to get unbiased results for the analysis of the data. Following is an example:"
   ]
  },
  {
   "cell_type": "code",
   "execution_count": 48,
   "metadata": {
    "_uuid": "46f5a53c75c949f784644048a83fcca3ca16536f"
   },
   "outputs": [
    {
     "data": {
      "text/html": [
       "<div>\n",
       "<style scoped>\n",
       "    .dataframe tbody tr th:only-of-type {\n",
       "        vertical-align: middle;\n",
       "    }\n",
       "\n",
       "    .dataframe tbody tr th {\n",
       "        vertical-align: top;\n",
       "    }\n",
       "\n",
       "    .dataframe thead th {\n",
       "        text-align: right;\n",
       "    }\n",
       "</style>\n",
       "<table border=\"1\" class=\"dataframe\">\n",
       "  <thead>\n",
       "    <tr style=\"text-align: right;\">\n",
       "      <th></th>\n",
       "      <th>Id</th>\n",
       "      <th>ProductId</th>\n",
       "      <th>UserId</th>\n",
       "      <th>ProfileName</th>\n",
       "      <th>HelpfulnessNumerator</th>\n",
       "      <th>HelpfulnessDenominator</th>\n",
       "      <th>Score</th>\n",
       "      <th>Time</th>\n",
       "      <th>Summary</th>\n",
       "      <th>Text</th>\n",
       "    </tr>\n",
       "  </thead>\n",
       "  <tbody>\n",
       "    <tr>\n",
       "      <th>0</th>\n",
       "      <td>78445</td>\n",
       "      <td>B000HDL1RQ</td>\n",
       "      <td>AR5J8UI46CURR</td>\n",
       "      <td>Geetha Krishnan</td>\n",
       "      <td>2</td>\n",
       "      <td>2</td>\n",
       "      <td>5</td>\n",
       "      <td>1199577600</td>\n",
       "      <td>LOACKER QUADRATINI VANILLA WAFERS</td>\n",
       "      <td>DELICIOUS WAFERS. I FIND THAT EUROPEAN WAFERS ...</td>\n",
       "    </tr>\n",
       "    <tr>\n",
       "      <th>1</th>\n",
       "      <td>138317</td>\n",
       "      <td>B000HDOPYC</td>\n",
       "      <td>AR5J8UI46CURR</td>\n",
       "      <td>Geetha Krishnan</td>\n",
       "      <td>2</td>\n",
       "      <td>2</td>\n",
       "      <td>5</td>\n",
       "      <td>1199577600</td>\n",
       "      <td>LOACKER QUADRATINI VANILLA WAFERS</td>\n",
       "      <td>DELICIOUS WAFERS. I FIND THAT EUROPEAN WAFERS ...</td>\n",
       "    </tr>\n",
       "    <tr>\n",
       "      <th>2</th>\n",
       "      <td>138277</td>\n",
       "      <td>B000HDOPYM</td>\n",
       "      <td>AR5J8UI46CURR</td>\n",
       "      <td>Geetha Krishnan</td>\n",
       "      <td>2</td>\n",
       "      <td>2</td>\n",
       "      <td>5</td>\n",
       "      <td>1199577600</td>\n",
       "      <td>LOACKER QUADRATINI VANILLA WAFERS</td>\n",
       "      <td>DELICIOUS WAFERS. I FIND THAT EUROPEAN WAFERS ...</td>\n",
       "    </tr>\n",
       "    <tr>\n",
       "      <th>3</th>\n",
       "      <td>73791</td>\n",
       "      <td>B000HDOPZG</td>\n",
       "      <td>AR5J8UI46CURR</td>\n",
       "      <td>Geetha Krishnan</td>\n",
       "      <td>2</td>\n",
       "      <td>2</td>\n",
       "      <td>5</td>\n",
       "      <td>1199577600</td>\n",
       "      <td>LOACKER QUADRATINI VANILLA WAFERS</td>\n",
       "      <td>DELICIOUS WAFERS. I FIND THAT EUROPEAN WAFERS ...</td>\n",
       "    </tr>\n",
       "    <tr>\n",
       "      <th>4</th>\n",
       "      <td>155049</td>\n",
       "      <td>B000PAQ75C</td>\n",
       "      <td>AR5J8UI46CURR</td>\n",
       "      <td>Geetha Krishnan</td>\n",
       "      <td>2</td>\n",
       "      <td>2</td>\n",
       "      <td>5</td>\n",
       "      <td>1199577600</td>\n",
       "      <td>LOACKER QUADRATINI VANILLA WAFERS</td>\n",
       "      <td>DELICIOUS WAFERS. I FIND THAT EUROPEAN WAFERS ...</td>\n",
       "    </tr>\n",
       "  </tbody>\n",
       "</table>\n",
       "</div>"
      ],
      "text/plain": [
       "       Id   ProductId         UserId      ProfileName  HelpfulnessNumerator  \\\n",
       "0   78445  B000HDL1RQ  AR5J8UI46CURR  Geetha Krishnan                     2   \n",
       "1  138317  B000HDOPYC  AR5J8UI46CURR  Geetha Krishnan                     2   \n",
       "2  138277  B000HDOPYM  AR5J8UI46CURR  Geetha Krishnan                     2   \n",
       "3   73791  B000HDOPZG  AR5J8UI46CURR  Geetha Krishnan                     2   \n",
       "4  155049  B000PAQ75C  AR5J8UI46CURR  Geetha Krishnan                     2   \n",
       "\n",
       "   HelpfulnessDenominator  Score        Time  \\\n",
       "0                       2      5  1199577600   \n",
       "1                       2      5  1199577600   \n",
       "2                       2      5  1199577600   \n",
       "3                       2      5  1199577600   \n",
       "4                       2      5  1199577600   \n",
       "\n",
       "                             Summary  \\\n",
       "0  LOACKER QUADRATINI VANILLA WAFERS   \n",
       "1  LOACKER QUADRATINI VANILLA WAFERS   \n",
       "2  LOACKER QUADRATINI VANILLA WAFERS   \n",
       "3  LOACKER QUADRATINI VANILLA WAFERS   \n",
       "4  LOACKER QUADRATINI VANILLA WAFERS   \n",
       "\n",
       "                                                Text  \n",
       "0  DELICIOUS WAFERS. I FIND THAT EUROPEAN WAFERS ...  \n",
       "1  DELICIOUS WAFERS. I FIND THAT EUROPEAN WAFERS ...  \n",
       "2  DELICIOUS WAFERS. I FIND THAT EUROPEAN WAFERS ...  \n",
       "3  DELICIOUS WAFERS. I FIND THAT EUROPEAN WAFERS ...  \n",
       "4  DELICIOUS WAFERS. I FIND THAT EUROPEAN WAFERS ...  "
      ]
     },
     "execution_count": 48,
     "metadata": {},
     "output_type": "execute_result"
    }
   ],
   "source": [
    "display= pd.read_sql_query(\"\"\"\n",
    "SELECT *\n",
    "FROM Reviews\n",
    "WHERE Score != 3 AND UserId=\"AR5J8UI46CURR\"\n",
    "ORDER BY ProductID\n",
    "\"\"\", con)\n",
    "display"
   ]
  },
  {
   "cell_type": "markdown",
   "metadata": {
    "_uuid": "4eb82ece9d60ebdf56df5b873b7a122981e4a3ce"
   },
   "source": [
    "\n",
    "As can be seen above the same user has multiple reviews of the with the same values for HelpfulnessNumerator, HelpfulnessDenominator, Score, Time, Summary and Text and on doing analysis it was found that \n",
    "\n",
    "ProductId=B000HDOPZG was Loacker Quadratini Vanilla Wafer Cookies, 8.82-Ounce Packages (Pack of 8)\n",
    "\n",
    "ProductId=B000HDL1RQ was Loacker Quadratini Lemon Wafer Cookies, 8.82-Ounce Packages (Pack of 8) and so on\n",
    "\n",
    "It was inferred after analysis that reviews with same parameters other than ProductId belonged to the same product just having different flavour or quantity. Hence in order to reduce redundancy it was decided to eliminate the rows having same parameters.\n",
    "\n",
    "The method used for the same was that we first sort the data according to ProductId and then just keep the first similar product review and delelte the others. for eg. in the above just the review for ProductId=B000HDL1RQ remains. This method ensures that there is only one representative for each product and deduplication without sorting would lead to possibility of different representatives still existing for the same product."
   ]
  },
  {
   "cell_type": "code",
   "execution_count": 49,
   "metadata": {
    "_uuid": "b56367295a3055407e31d0275c4497ca6ea95d97"
   },
   "outputs": [
    {
     "data": {
      "text/plain": [
       "69.25890143662969"
      ]
     },
     "execution_count": 49,
     "metadata": {},
     "output_type": "execute_result"
    }
   ],
   "source": [
    "#Checking to see how much % of data still remains\n",
    "(final['Id'].size*1.0)/(filtered_data['Id'].size*1.0)*100"
   ]
  },
  {
   "cell_type": "markdown",
   "metadata": {
    "_uuid": "dbd03eedc50ef8b7cd0f7f5e27c59ab96fbdd56a"
   },
   "source": [
    "**Observation:-**\n",
    "* It was also seen that in two rows given below the value of HelpfulnessNumerator is greater than HelpfulnessDenominator which is not practically possible hence these two rows too are removed from calcualtions"
   ]
  },
  {
   "cell_type": "code",
   "execution_count": 50,
   "metadata": {
    "_uuid": "dc565be561abba5c8293177effc34c28e5dafb3c"
   },
   "outputs": [
    {
     "data": {
      "text/html": [
       "<div>\n",
       "<style scoped>\n",
       "    .dataframe tbody tr th:only-of-type {\n",
       "        vertical-align: middle;\n",
       "    }\n",
       "\n",
       "    .dataframe tbody tr th {\n",
       "        vertical-align: top;\n",
       "    }\n",
       "\n",
       "    .dataframe thead th {\n",
       "        text-align: right;\n",
       "    }\n",
       "</style>\n",
       "<table border=\"1\" class=\"dataframe\">\n",
       "  <thead>\n",
       "    <tr style=\"text-align: right;\">\n",
       "      <th></th>\n",
       "      <th>Id</th>\n",
       "      <th>ProductId</th>\n",
       "      <th>UserId</th>\n",
       "      <th>ProfileName</th>\n",
       "      <th>HelpfulnessNumerator</th>\n",
       "      <th>HelpfulnessDenominator</th>\n",
       "      <th>Score</th>\n",
       "      <th>Time</th>\n",
       "      <th>Summary</th>\n",
       "      <th>Text</th>\n",
       "    </tr>\n",
       "  </thead>\n",
       "  <tbody>\n",
       "    <tr>\n",
       "      <th>0</th>\n",
       "      <td>64422</td>\n",
       "      <td>B000MIDROQ</td>\n",
       "      <td>A161DK06JJMCYF</td>\n",
       "      <td>J. E. Stephens \"Jeanne\"</td>\n",
       "      <td>3</td>\n",
       "      <td>1</td>\n",
       "      <td>5</td>\n",
       "      <td>1224892800</td>\n",
       "      <td>Bought This for My Son at College</td>\n",
       "      <td>My son loves spaghetti so I didn't hesitate or...</td>\n",
       "    </tr>\n",
       "    <tr>\n",
       "      <th>1</th>\n",
       "      <td>44737</td>\n",
       "      <td>B001EQ55RW</td>\n",
       "      <td>A2V0I904FH7ABY</td>\n",
       "      <td>Ram</td>\n",
       "      <td>3</td>\n",
       "      <td>2</td>\n",
       "      <td>4</td>\n",
       "      <td>1212883200</td>\n",
       "      <td>Pure cocoa taste with crunchy almonds inside</td>\n",
       "      <td>It was almost a 'love at first bite' - the per...</td>\n",
       "    </tr>\n",
       "  </tbody>\n",
       "</table>\n",
       "</div>"
      ],
      "text/plain": [
       "      Id   ProductId          UserId              ProfileName  \\\n",
       "0  64422  B000MIDROQ  A161DK06JJMCYF  J. E. Stephens \"Jeanne\"   \n",
       "1  44737  B001EQ55RW  A2V0I904FH7ABY                      Ram   \n",
       "\n",
       "   HelpfulnessNumerator  HelpfulnessDenominator  Score        Time  \\\n",
       "0                     3                       1      5  1224892800   \n",
       "1                     3                       2      4  1212883200   \n",
       "\n",
       "                                        Summary  \\\n",
       "0             Bought This for My Son at College   \n",
       "1  Pure cocoa taste with crunchy almonds inside   \n",
       "\n",
       "                                                Text  \n",
       "0  My son loves spaghetti so I didn't hesitate or...  \n",
       "1  It was almost a 'love at first bite' - the per...  "
      ]
     },
     "execution_count": 50,
     "metadata": {},
     "output_type": "execute_result"
    }
   ],
   "source": [
    "display= pd.read_sql_query(\"\"\"\n",
    "SELECT *\n",
    "FROM Reviews\n",
    "WHERE Score != 3 AND Id=44737 OR Id=64422\n",
    "ORDER BY ProductID\n",
    "\"\"\", con)\n",
    "display"
   ]
  },
  {
   "cell_type": "code",
   "execution_count": 51,
   "metadata": {
    "_uuid": "db1cb9e849ce9564354775af959c3a0a59293f36",
    "collapsed": true
   },
   "outputs": [],
   "source": [
    "final=final[final.HelpfulnessNumerator<=final.HelpfulnessDenominator]"
   ]
  },
  {
   "cell_type": "code",
   "execution_count": 52,
   "metadata": {
    "_uuid": "5f5b16de625e41eeee07e1732c8d9625f1221cd9"
   },
   "outputs": [
    {
     "name": "stdout",
     "output_type": "stream",
     "text": [
      "(364171, 10)\n"
     ]
    },
    {
     "data": {
      "text/plain": [
       "positive    307061\n",
       "negative     57110\n",
       "Name: Score, dtype: int64"
      ]
     },
     "execution_count": 52,
     "metadata": {},
     "output_type": "execute_result"
    }
   ],
   "source": [
    "#Before starting the next phase of preprocessing lets see the number of entries left\n",
    "print(final.shape)\n",
    "\n",
    "#How many positive and negative reviews are present in our dataset?\n",
    "final['Score'].value_counts()"
   ]
  },
  {
   "cell_type": "markdown",
   "metadata": {
    "_uuid": "aac13be99b2e73e245841dd7ea62c17e0fde1c0b"
   },
   "source": [
    "**3.2 Text Preprocessing: Stemming, stop-word removal and Lemmatization.**\n",
    "\n",
    "Now that we have finished deduplication our data requires some preprocessing before we go on further with analysis and making the prediction model.\n",
    "\n",
    "Hence in the Preprocessing phase we do the following in the order below:-\n",
    "\n",
    "1. Begin by removing the html tags\n",
    "2. Remove any punctuations or limited set of special characters like , or . or # etc.\n",
    "3. Check if the word is made up of english letters and is not alpha-numeric\n",
    "4. Check to see if the length of the word is greater than 2 (as it was researched that there is no adjective in 2-letters)\n",
    "5. Convert the word to lowercase\n",
    "6. Remove Stopwords\n",
    "7. Finally Snowball Stemming the word (it was obsereved to be better than Porter Stemming)\n",
    "8. After which we collect the words used to describe positive and negative reviews"
   ]
  },
  {
   "cell_type": "code",
   "execution_count": 53,
   "metadata": {
    "_uuid": "e1eb8b9e85476a5f2d067654cf38be8fc128ba41"
   },
   "outputs": [
    {
     "data": {
      "image/png": "[encoded data removed]",
      "text/plain": [
       "<matplotlib.figure.Figure at 0x7f170c2ed828>"
      ]
     },
     "metadata": {},
     "output_type": "display_data"
    },
    {
     "name": "stdout",
     "output_type": "stream",
     "text": [
      "positive    87730\n",
      "negative    12270\n",
      "Name: Score, dtype: int64\n"
     ]
    }
   ],
   "source": [
    "# Data Sampling\n",
    "final = final.iloc[:100000,:]\n",
    "\n",
    "# Checking the number of positive and negative reviews\n",
    "Class_Count  = final['Score'].value_counts()\n",
    "plt.figure()\n",
    "flatui = [\"#15ff00\", \"#ff0033\"]\n",
    "sns.set_palette(flatui)\n",
    "sns.barplot(Class_Count.index, Class_Count.values, alpha=0.8 )\n",
    "plt.title('Positive Class Count vs Negative Class Count')\n",
    "plt.ylabel('Count', fontsize=12)\n",
    "plt.xlabel('Class', fontsize=12)\n",
    "plt.show()\n",
    "print(final['Score'].value_counts())"
   ]
  },
  {
   "cell_type": "code",
   "execution_count": 54,
   "metadata": {
    "_uuid": "79463e54611e98d87356d2d71474505ac76747fc",
    "collapsed": true
   },
   "outputs": [],
   "source": [
    "import string\n",
    "from nltk.corpus import stopwords\n",
    "from nltk.stem import PorterStemmer\n",
    "from nltk.stem.wordnet import WordNetLemmatizer\n",
    "\n",
    "# Function to Remove HTML Tags\n",
    "def cleanhtml(sentence):\n",
    "    cleaner = re.compile('<.*?>')\n",
    "    cleantext = re.sub(cleaner,\"\",sentence)\n",
    "    return cleantext\n",
    "\n",
    "# Function to clean punctuations and special characters\n",
    "\n",
    "def cleanpunct(sentence):\n",
    "    cleaned = re.sub(r'[?|!|\\'|\"|#]',r'',sentence)\n",
    "    cleaned = re.sub(r'[.|,|)|(|\\|/]',r' ',cleaned)\n",
    "    return  cleaned\n",
    "\n",
    "# Initialize Stop words and PorterStemmer and Lemmetizer\n",
    "stop = set(stopwords.words('english'))\n",
    "sno = SnowballStemmer('english')"
   ]
  },
  {
   "cell_type": "code",
   "execution_count": 55,
   "metadata": {
    "_uuid": "b8fc13b1ddc55ab9f606ee45c9ab795c8062c70b",
    "collapsed": true
   },
   "outputs": [],
   "source": [
    "# Cleaning HTML and non-Alphanumeric characters from the review text\n",
    "i=0\n",
    "str1=' '\n",
    "final_string=[]\n",
    "all_positive_words=[] # store words from +ve reviews here\n",
    "all_negative_words=[] # store words from -ve reviews here.\n",
    "s=''\n",
    "for sent in final['Text'].values:\n",
    "    filtered_sentence=[]\n",
    "    #print(sent);\n",
    "    sent=cleanhtml(sent) # remove HTMl tags\n",
    "    for w in sent.split():\n",
    "        for cleaned_words in cleanpunct(w).split():\n",
    "            if((cleaned_words.isalpha()) & (len(cleaned_words)>2)):    \n",
    "                if(cleaned_words.lower() not in stop):\n",
    "                    s=(sno.stem(cleaned_words.lower())).encode('utf8')\n",
    "                    filtered_sentence.append(s)\n",
    "                    if (final['Score'].values)[i] == 'Positive': \n",
    "                        all_positive_words.append(s) #list of all words used to describe positive reviews\n",
    "                    if(final['Score'].values)[i] == 'Negative':\n",
    "                        all_negative_words.append(s) #list of all words used to describe negative reviews reviews\n",
    "                else:\n",
    "                    continue\n",
    "            else:\n",
    "                continue \n",
    "    #print(filtered_sentence)\n",
    "    str1 = b\" \".join(filtered_sentence) #final string of cleaned words\n",
    "    \n",
    "    final_string.append(str1)\n",
    "    i+=1"
   ]
  },
  {
   "cell_type": "code",
   "execution_count": 57,
   "metadata": {
    "_uuid": "eb3c9d1adb804c7a2a5a1ca05d37a6a6060a47a5"
   },
   "outputs": [
    {
     "data": {
      "text/html": [
       "<div>\n",
       "<style scoped>\n",
       "    .dataframe tbody tr th:only-of-type {\n",
       "        vertical-align: middle;\n",
       "    }\n",
       "\n",
       "    .dataframe tbody tr th {\n",
       "        vertical-align: top;\n",
       "    }\n",
       "\n",
       "    .dataframe thead th {\n",
       "        text-align: right;\n",
       "    }\n",
       "</style>\n",
       "<table border=\"1\" class=\"dataframe\">\n",
       "  <thead>\n",
       "    <tr style=\"text-align: right;\">\n",
       "      <th></th>\n",
       "      <th>Id</th>\n",
       "      <th>ProductId</th>\n",
       "      <th>UserId</th>\n",
       "      <th>ProfileName</th>\n",
       "      <th>HelpfulnessNumerator</th>\n",
       "      <th>HelpfulnessDenominator</th>\n",
       "      <th>Score</th>\n",
       "      <th>Time</th>\n",
       "      <th>Summary</th>\n",
       "      <th>Text</th>\n",
       "      <th>CleanedText</th>\n",
       "    </tr>\n",
       "  </thead>\n",
       "  <tbody>\n",
       "    <tr>\n",
       "      <th>0</th>\n",
       "      <td>150524</td>\n",
       "      <td>0006641040</td>\n",
       "      <td>ACITT7DI6IDDL</td>\n",
       "      <td>shari zychinski</td>\n",
       "      <td>0</td>\n",
       "      <td>0</td>\n",
       "      <td>positive</td>\n",
       "      <td>1999-10-08 00:00:00</td>\n",
       "      <td>EVERY book is educational</td>\n",
       "      <td>this witty little book makes my son laugh at l...</td>\n",
       "      <td>b'witti littl book make son laugh loud recit c...</td>\n",
       "    </tr>\n",
       "    <tr>\n",
       "      <th>1</th>\n",
       "      <td>150501</td>\n",
       "      <td>0006641040</td>\n",
       "      <td>AJ46FKXOVC7NR</td>\n",
       "      <td>Nicholas A Mesiano</td>\n",
       "      <td>2</td>\n",
       "      <td>2</td>\n",
       "      <td>positive</td>\n",
       "      <td>1999-10-25 00:00:00</td>\n",
       "      <td>This whole series is great way to spend time w...</td>\n",
       "      <td>I can remember seeing the show when it aired o...</td>\n",
       "      <td>b'rememb see show air televis year ago child s...</td>\n",
       "    </tr>\n",
       "    <tr>\n",
       "      <th>2</th>\n",
       "      <td>451856</td>\n",
       "      <td>B00004CXX9</td>\n",
       "      <td>AIUWLEQ1ADEG5</td>\n",
       "      <td>Elizabeth Medina</td>\n",
       "      <td>0</td>\n",
       "      <td>0</td>\n",
       "      <td>positive</td>\n",
       "      <td>1999-12-02 00:00:00</td>\n",
       "      <td>Entertainingl Funny!</td>\n",
       "      <td>Beetlejuice is a well written movie ..... ever...</td>\n",
       "      <td>b'beetlejuic well written movi everyth excel a...</td>\n",
       "    </tr>\n",
       "    <tr>\n",
       "      <th>3</th>\n",
       "      <td>374359</td>\n",
       "      <td>B00004CI84</td>\n",
       "      <td>A344SMIA5JECGM</td>\n",
       "      <td>Vincent P. Ross</td>\n",
       "      <td>1</td>\n",
       "      <td>2</td>\n",
       "      <td>positive</td>\n",
       "      <td>1999-12-06 00:00:00</td>\n",
       "      <td>A modern day fairy tale</td>\n",
       "      <td>A twist of rumplestiskin captured on film, sta...</td>\n",
       "      <td>b'twist rumplestiskin captur film star michael...</td>\n",
       "    </tr>\n",
       "    <tr>\n",
       "      <th>4</th>\n",
       "      <td>451855</td>\n",
       "      <td>B00004CXX9</td>\n",
       "      <td>AJH6LUC1UT1ON</td>\n",
       "      <td>The Phantom of the Opera</td>\n",
       "      <td>0</td>\n",
       "      <td>0</td>\n",
       "      <td>positive</td>\n",
       "      <td>2000-01-03 00:00:00</td>\n",
       "      <td>FANTASTIC!</td>\n",
       "      <td>Beetlejuice is an excellent and funny movie. K...</td>\n",
       "      <td>b'beetlejuic excel funni movi keaton hilari wa...</td>\n",
       "    </tr>\n",
       "  </tbody>\n",
       "</table>\n",
       "</div>"
      ],
      "text/plain": [
       "       Id   ProductId          UserId               ProfileName  \\\n",
       "0  150524  0006641040   ACITT7DI6IDDL           shari zychinski   \n",
       "1  150501  0006641040   AJ46FKXOVC7NR        Nicholas A Mesiano   \n",
       "2  451856  B00004CXX9   AIUWLEQ1ADEG5          Elizabeth Medina   \n",
       "3  374359  B00004CI84  A344SMIA5JECGM           Vincent P. Ross   \n",
       "4  451855  B00004CXX9   AJH6LUC1UT1ON  The Phantom of the Opera   \n",
       "\n",
       "   HelpfulnessNumerator  HelpfulnessDenominator     Score  \\\n",
       "0                     0                       0  positive   \n",
       "1                     2                       2  positive   \n",
       "2                     0                       0  positive   \n",
       "3                     1                       2  positive   \n",
       "4                     0                       0  positive   \n",
       "\n",
       "                  Time                                            Summary  \\\n",
       "0  1999-10-08 00:00:00                          EVERY book is educational   \n",
       "1  1999-10-25 00:00:00  This whole series is great way to spend time w...   \n",
       "2  1999-12-02 00:00:00                               Entertainingl Funny!   \n",
       "3  1999-12-06 00:00:00                            A modern day fairy tale   \n",
       "4  2000-01-03 00:00:00                                         FANTASTIC!   \n",
       "\n",
       "                                                Text  \\\n",
       "0  this witty little book makes my son laugh at l...   \n",
       "1  I can remember seeing the show when it aired o...   \n",
       "2  Beetlejuice is a well written movie ..... ever...   \n",
       "3  A twist of rumplestiskin captured on film, sta...   \n",
       "4  Beetlejuice is an excellent and funny movie. K...   \n",
       "\n",
       "                                         CleanedText  \n",
       "0  b'witti littl book make son laugh loud recit c...  \n",
       "1  b'rememb see show air televis year ago child s...  \n",
       "2  b'beetlejuic well written movi everyth excel a...  \n",
       "3  b'twist rumplestiskin captur film star michael...  \n",
       "4  b'beetlejuic excel funni movi keaton hilari wa...  "
      ]
     },
     "execution_count": 57,
     "metadata": {},
     "output_type": "execute_result"
    }
   ],
   "source": [
    "final['CleanedText']=final_string\n",
    "final.head(5)"
   ]
  },
  {
   "cell_type": "markdown",
   "metadata": {
    "_uuid": "ae9778d49a0d75b17623614ed059393aabd1b6ff",
    "collapsed": true
   },
   "source": [
    "# Observations:-\n",
    "    \n",
    "* I've performed the following Data preprocessing.\n",
    "\n",
    "    > Removed Stop-words\n",
    "        \n",
    "    > Removed any punctuations or limited set of special characters like , or . or # etc.\n",
    "        \n",
    "    > Snowball Stemming the word (The goal of both stemming and lemmatization is to reduce inflectional forms and sometimes derivationally related forms of a word to a common base form)\n",
    "        \n",
    "    > Converted the word to lowercase\n",
    "        \n",
    "* I've added a column called 'CleanedText' which displays the data after pre-processing of the review. So,Now we have 1000 reviews with 11 columns\n",
    "    \n",
    "* Out of 364k reviews, I 've sampled the data to 100k and applied Decision Tree Algorithm."
   ]
  },
  {
   "cell_type": "markdown",
   "metadata": {
    "_uuid": "6ea36e5abf921ceeccd5405b1b62557dc49023f5",
    "collapsed": true
   },
   "source": [
    "# 4. Applying Decision Tree"
   ]
  },
  {
   "cell_type": "code",
   "execution_count": 58,
   "metadata": {
    "_uuid": "4516b63659a5d7b90186ad70555bda7c21d07bf9",
    "collapsed": true
   },
   "outputs": [],
   "source": [
    "# Container to store the results\n",
    "final_results = {}"
   ]
  },
  {
   "cell_type": "code",
   "execution_count": 92,
   "metadata": {
    "_uuid": "2a28fc546e03089c9e2261fe60718e6250b419cd",
    "collapsed": true
   },
   "outputs": [],
   "source": [
    "# Function for Decision Trees\n",
    "def runDT(X_tr_input,x_cv_input,y_tr_input,y_cv_input,VectorizationType):\n",
    "\n",
    "        cv_scores = []\n",
    "        depth = []\n",
    "            \n",
    "        j=0\n",
    "        for i in range(1,15,2):\n",
    "                dt = tree.DecisionTreeClassifier(max_depth=i)\n",
    "                scores = cross_val_score(dt, X_tr_input, y_tr_input, cv=10, n_jobs=4)\n",
    "                cv_scores.append(scores.mean())\n",
    "                depth.append(i)\n",
    "                print('For Depth = ', i,'CV Score = ', cv_scores[j])\n",
    "                j+=1\n",
    "        plt.plot(depth,cv_scores,'.-')\n",
    "        plt.title('Tree Depth vs CV Scores')\n",
    "        plt.ylabel('CV Scores')\n",
    "        plt.xlabel('Tree Depth')\n",
    "        plt.show()\n",
    "        print(depth)\n",
    "        print(cv_scores)\n",
    "        print(depth[cv_scores.index(max(cv_scores))])\n",
    "        \n",
    "        # changing to misclassification error\n",
    "        MSE = [1 - x for x in cv_scores]\n",
    "                            \n",
    "        # determining best alpha\n",
    "        max_depth_optimum = depth[MSE.index(min(MSE))]                \n",
    "        gini = tree.DecisionTreeClassifier(criterion='gini',max_depth= max_depth_optimum,random_state= 0)\n",
    "        gini.fit(X_tr_input,y_tr_input)\n",
    "        pred = gini.predict(x_cv_input)\n",
    "        print('The Accuracy of Decision Tree Algorithm with tree depth = ',max_depth_optimum,'and ',VectorizationType,\n",
    "        ' vectorization is: ',np.round((accuracy_score(y_cv_input, pred)*100),decimals = 2))\n",
    "        final_results[VectorizationType] =accuracy_score(y_cv_input,pred)*100\n",
    "        print(\"the misclassification error for each Tree Depth value is : \", np.round(MSE,3))\n",
    "        \n",
    "        # Plot Confusion Matrix, F1 Score, Recall, Precision and Classification Report\n",
    "        from sklearn.metrics import confusion_matrix\n",
    "        import scikitplot.metrics as skplt\n",
    "        skplt.plot_confusion_matrix(y_cv_input,pred)\n",
    "        plt.title('Confusion matrix of the classifier')\n",
    "        plt.show()        \n",
    "        print('F1 score for Decision Tree algorithm with tree depth =',max_depth_optimum,' is ' , np.round((f1_score(y_cv_input, pred,average= 'macro')*100),decimals = 2))\n",
    "        print('Recall for Decision Tree agorithm with tree depth =',max_depth_optimum,' is ' , np.round((recall_score(y_cv_input, pred,average= 'macro')*100),decimals = 2))\n",
    "        print('Precision for Decision Tree algorithm with tree depth =',max_depth_optimum,' is ' , np.round((precision_score(y_cv_input, pred,average= 'macro')*100),decimals = 2))\n",
    "        print ('\\n Classification report for Decision Tree algorithm with tree depth =',max_depth_optimum,' is \\n ' , classification_report(y_cv_input,pred))"
   ]
  },
  {
   "cell_type": "markdown",
   "metadata": {},
   "source": [
    "# 5. Feature Generation Techniques"
   ]
  },
  {
   "cell_type": "markdown",
   "metadata": {},
   "source": [
    "**5.1 Using Bag of Words**"
   ]
  },
  {
   "cell_type": "code",
   "execution_count": 93,
   "metadata": {
    "_uuid": "9a4778fd316056c5b32e8ae0cc9ab15c6fb94b29"
   },
   "outputs": [
    {
     "name": "stdout",
     "output_type": "stream",
     "text": [
      "For Depth =  1 CV Score =  0.8769795981181312\n",
      "For Depth =  3 CV Score =  0.8802042295540184\n",
      "For Depth =  5 CV Score =  0.8857755332608022\n",
      "For Depth =  7 CV Score =  0.8868163537786137\n",
      "For Depth =  9 CV Score =  0.887550968538617\n",
      "For Depth =  11 CV Score =  0.8880816807537695\n",
      "For Depth =  13 CV Score =  0.8883674866730757\n"
     ]
    },
    {
     "data": {
      "image/png": "[encoded data removed]",
      "text/plain": [
       "<matplotlib.figure.Figure at 0x7f1702555588>"
      ]
     },
     "metadata": {},
     "output_type": "display_data"
    },
    {
     "name": "stdout",
     "output_type": "stream",
     "text": [
      "[1, 3, 5, 7, 9, 11, 13]\n",
      "[0.8769795981181312, 0.8802042295540184, 0.8857755332608022, 0.8868163537786137, 0.887550968538617, 0.8880816807537695, 0.8883674866730757]\n",
      "13\n",
      "The Accuracy of Decision Tree Algorithm with tree depth =  13 and  Bag of Words  vectorization is:  88.72\n",
      "the misclassification error for each Tree Depth value is :  [0.123 0.12  0.114 0.113 0.112 0.112 0.112]\n"
     ]
    },
    {
     "data": {
      "image/png": "[encoded data removed]",
      "text/plain": [
       "<matplotlib.figure.Figure at 0x7f16ea89e208>"
      ]
     },
     "metadata": {},
     "output_type": "display_data"
    },
    {
     "name": "stdout",
     "output_type": "stream",
     "text": [
      "F1 score for Decision Tree algorithm with tree depth = 13  is  63.95\n",
      "Recall for Decision Tree agorithm with tree depth = 13  is  60.68\n",
      "Precision for Decision Tree algorithm with tree depth = 13  is  76.71\n",
      "\n",
      " Classification report for Decision Tree algorithm with tree depth = 13  is \n",
      "               precision    recall  f1-score   support\n",
      "\n",
      "   negative       0.63      0.23      0.34      2629\n",
      "   positive       0.90      0.98      0.94     18371\n",
      "\n",
      "avg / total       0.87      0.89      0.86     21000\n",
      "\n"
     ]
    }
   ],
   "source": [
    "#Bag of Words\n",
    "# split the data set into train and test\n",
    "X_1, X_test, y_1, y_test = cross_validation.train_test_split(final['CleanedText'], final['Score'], random_state = 0,test_size = 0.3)\n",
    "\n",
    "# split the train data set into cross validation train and cross validation test\n",
    "X_tr, X_cv, y_tr, y_cv = cross_validation.train_test_split(X_1, y_1, test_size=0.3)\n",
    "\n",
    "vect = CountVectorizer().fit(X_tr)\n",
    "X_tr_vectorized = vect.transform(X_tr)\n",
    "x_cv_vectorized = vect.transform(X_cv)\n",
    "runDT(X_tr_vectorized, x_cv_vectorized, y_tr, y_cv,'Bag of Words')"
   ]
  },
  {
   "cell_type": "markdown",
   "metadata": {},
   "source": [
    "**Observations:-**\n",
    "\n",
    "* I've applied Bag of Words (BOW) Feature Generation Technique to convert text to numeric vector.\n",
    "    \n",
    "* I've already sorted the data by Time, So here I've divided the data into three parts\n",
    "            1. Train Data (49%)\n",
    "            2. Data for Cross Validation (21%)\n",
    "            3. Test Data (30 %)\n",
    "            \n",
    "* At Tree Depth '13' we got highest Accuarcy rate i.e 88.72%.\n",
    "    \n",
    "* In predictive analytics, a table of confusion (sometimes also called a confusion matrix), is a table with two rows and two columns that reports the number of false positives, false negatives, true positives, and true negatives. This allows more detailed analysis than mere proportion of correct classifications (accuracy).\n",
    "    \n",
    "           1. True Positive Rate (TPR)  = 612\n",
    "           2. False Positive Rate (FPR) = 2017\n",
    "           3. False Negative Rate (FNR) = 352\n",
    "           4. True Negative Rate (TNR)  = 18019"
   ]
  },
  {
   "cell_type": "markdown",
   "metadata": {},
   "source": [
    "**5.2 Using TF-IDF**"
   ]
  },
  {
   "cell_type": "code",
   "execution_count": 94,
   "metadata": {
    "_uuid": "d52caa7ee065e05e080000eebea361ee20531afb"
   },
   "outputs": [
    {
     "name": "stdout",
     "output_type": "stream",
     "text": [
      "For Depth =  1 CV Score =  0.8769795981181312\n",
      "For Depth =  3 CV Score =  0.8799797439204816\n",
      "For Depth =  5 CV Score =  0.8860203895978709\n",
      "For Depth =  7 CV Score =  0.8863672867359664\n",
      "For Depth =  9 CV Score =  0.8863469368783414\n",
      "For Depth =  11 CV Score =  0.8865918515108506\n",
      "For Depth =  13 CV Score =  0.887000118903693\n"
     ]
    },
    {
     "data": {
      "image/png": "[encoded data removed]",
      "text/plain": [
       "<matplotlib.figure.Figure at 0x7f16e38ce5f8>"
      ]
     },
     "metadata": {},
     "output_type": "display_data"
    },
    {
     "name": "stdout",
     "output_type": "stream",
     "text": [
      "[1, 3, 5, 7, 9, 11, 13]\n",
      "[0.8769795981181312, 0.8799797439204816, 0.8860203895978709, 0.8863672867359664, 0.8863469368783414, 0.8865918515108506, 0.887000118903693]\n",
      "13\n",
      "The Accuracy of Decision Tree Algorithm with tree depth =  13 and  TF-IDF  vectorization is:  88.58\n",
      "the misclassification error for each Tree Depth value is :  [0.123 0.12  0.114 0.114 0.114 0.113 0.113]\n"
     ]
    },
    {
     "data": {
      "image/png": "[encoded data removed]",
      "text/plain": [
       "<matplotlib.figure.Figure at 0x7f1700874eb8>"
      ]
     },
     "metadata": {},
     "output_type": "display_data"
    },
    {
     "name": "stdout",
     "output_type": "stream",
     "text": [
      "F1 score for Decision Tree algorithm with tree depth = 13  is  62.51\n",
      "Recall for Decision Tree agorithm with tree depth = 13  is  59.51\n",
      "Precision for Decision Tree algorithm with tree depth = 13  is  76.51\n",
      "\n",
      " Classification report for Decision Tree algorithm with tree depth = 13  is \n",
      "               precision    recall  f1-score   support\n",
      "\n",
      "   negative       0.63      0.21      0.31      2629\n",
      "   positive       0.90      0.98      0.94     18371\n",
      "\n",
      "avg / total       0.86      0.89      0.86     21000\n",
      "\n"
     ]
    }
   ],
   "source": [
    "#TF-IDF\n",
    "tf_idf_vec = TfidfVectorizer(min_df=5).fit(X_tr)\n",
    "# Vectorizing the datsets\n",
    "X_tr_vectorized = tf_idf_vec.transform(X_tr)\n",
    "x_cv_vectorized = tf_idf_vec.transform(X_cv)\n",
    "\n",
    "runDT(X_tr_vectorized,x_cv_vectorized,y_tr,y_cv,'TF-IDF')"
   ]
  },
  {
   "cell_type": "markdown",
   "metadata": {},
   "source": [
    "**Observations:-**\n",
    "\n",
    "* I've applied TF-IDF Feature Generation Technique to convert text to numeric vector.\n",
    "    \n",
    "* I've already sorted the data by Time, So here I've divided the data into three parts\n",
    "            1. Train Data (49%)\n",
    "            2. Data for Cross Validation (21%)\n",
    "            3. Test Data (30 %)\n",
    "            \n",
    "* At Tree Depth '13' we got highest Accuarcy rate i.e 88.58%.\n",
    "    \n",
    "* In predictive analytics, a table of confusion (sometimes also called a confusion matrix), is a table with two rows and two columns that reports the number of false positives, false negatives, true positives, and true negatives. This allows more detailed analysis than mere proportion of correct classifications (accuracy).\n",
    "    \n",
    "           1. True Positive Rate (TPR)  = 545\n",
    "           2. False Positive Rate (FPR) = 2084\n",
    "           3. False Negative Rate (FNR) = 315\n",
    "           4. True Negative Rate (TNR)  = 18056"
   ]
  },
  {
   "cell_type": "markdown",
   "metadata": {},
   "source": [
    "**5.3 Using Word2Vec**"
   ]
  },
  {
   "cell_type": "code",
   "execution_count": 80,
   "metadata": {
    "_uuid": "1f05a136c7c490e3a1f4a43b6e145bedc4129d14"
   },
   "outputs": [
    {
     "name": "stdout",
     "output_type": "stream",
     "text": [
      "19060\n"
     ]
    }
   ],
   "source": [
    "# Train your own Word2Vec model using your own text corpus\n",
    "import gensim\n",
    "i=0\n",
    "list_of_sent=[]\n",
    "for sent in final['Text'].values:\n",
    "    filtered_sentence=[]\n",
    "    sent=cleanhtml(sent)\n",
    "    for w in sent.split():\n",
    "        for cleaned_words in cleanpunct(w).split():\n",
    "            if(cleaned_words.isalpha()):    \n",
    "                filtered_sentence.append(cleaned_words.lower())\n",
    "            else:\n",
    "                continue \n",
    "    list_of_sent.append(filtered_sentence)\n",
    "    \n",
    "w2v_model=gensim.models.Word2Vec(list_of_sent,min_count=5,size=50, workers=4)    \n",
    "words = list(w2v_model.wv.vocab)\n",
    "print(len(words))"
   ]
  },
  {
   "cell_type": "code",
   "execution_count": 95,
   "metadata": {
    "_uuid": "8e26e20018e9b9ce147c0fb9754f2965752a97be"
   },
   "outputs": [
    {
     "name": "stdout",
     "output_type": "stream",
     "text": [
      "For Depth =  1 CV Score =  0.8763285760370263\n",
      "For Depth =  3 CV Score =  0.8763285760370263\n",
      "For Depth =  5 CV Score =  0.8798571536303209\n",
      "For Depth =  7 CV Score =  0.8795572332242001\n",
      "For Depth =  9 CV Score =  0.8733857025454809\n",
      "For Depth =  11 CV Score =  0.8667998249093258\n",
      "For Depth =  13 CV Score =  0.8586712901151576\n"
     ]
    },
    {
     "data": {
      "image/png": "[encoded data removed]",
      "text/plain": [
       "<matplotlib.figure.Figure at 0x7f16ed493da0>"
      ]
     },
     "metadata": {},
     "output_type": "display_data"
    },
    {
     "name": "stdout",
     "output_type": "stream",
     "text": [
      "[1, 3, 5, 7, 9, 11, 13]\n",
      "[0.8763285760370263, 0.8763285760370263, 0.8798571536303209, 0.8795572332242001, 0.8733857025454809, 0.8667998249093258, 0.8586712901151576]\n",
      "5\n",
      "The Accuracy of Decision Tree Algorithm with tree depth =  5 and  Word2Vec  vectorization is:  88.25\n",
      "the misclassification error for each Tree Depth value is :  [0.124 0.124 0.12  0.12  0.127 0.133 0.141]\n"
     ]
    },
    {
     "data": {
      "image/png": "[encoded data removed]",
      "text/plain": [
       "<matplotlib.figure.Figure at 0x7f171782ab00>"
      ]
     },
     "metadata": {},
     "output_type": "display_data"
    },
    {
     "name": "stdout",
     "output_type": "stream",
     "text": [
      "F1 score for Decision Tree algorithm with tree depth = 5  is  58.37\n",
      "Recall for Decision Tree agorithm with tree depth = 5  is  56.49\n",
      "Precision for Decision Tree algorithm with tree depth = 5  is  71.98\n",
      "\n",
      " Classification report for Decision Tree algorithm with tree depth = 5  is \n",
      "               precision    recall  f1-score   support\n",
      "\n",
      "   negative       0.55      0.15      0.23      3613\n",
      "   positive       0.89      0.98      0.94     26387\n",
      "\n",
      "avg / total       0.85      0.88      0.85     30000\n",
      "\n"
     ]
    }
   ],
   "source": [
    "# average Word2Vec\n",
    "# compute average word2vec for each review.\n",
    "sent_vectors = []; # the avg-w2v for each sentence/review is stored in this list\n",
    "for sent in list_of_sent: # for each review/sentence\n",
    "    sent_vec = np.zeros(50) # as word vectors are of zero length\n",
    "    cnt_words =0; # num of words with a valid vector in the sentence/review\n",
    "    for word in sent: # for each word in a review/sentence\n",
    "        try:\n",
    "            vec = w2v_model.wv[word]\n",
    "            sent_vec += vec\n",
    "            cnt_words += 1\n",
    "        except:\n",
    "            pass\n",
    "    sent_vec /= cnt_words\n",
    "    sent_vectors.append(sent_vec)\n",
    "    \n",
    "# split the train data set into cross validation train and cross validation test\n",
    "X_1, X_test, y_1, y_test = cross_validation.train_test_split(sent_vectors, final['Score'], random_state = 0,test_size = 0.3)\n",
    "\n",
    "#Decision Tree Algorithm on Word2Vec\n",
    "runDT(X_1, X_test, y_1, y_test,'Word2Vec')"
   ]
  },
  {
   "cell_type": "markdown",
   "metadata": {},
   "source": [
    "**Observations:-**\n",
    "\n",
    "* I've applied Word2Vec Feature Generation Technique to convert text to numeric vector.\n",
    "    \n",
    "* I've already sorted the data by Time, So here I've divided the data into three parts\n",
    "            1. Train Data (49%)\n",
    "            2. Data for Cross Validation (21%)\n",
    "            3. Test Data (30 %)\n",
    "            \n",
    "* At Tree Depth '5' we got highest Accuarcy rate i.e 88.25%.\n",
    "    \n",
    "* In predictive analytics, a table of confusion (sometimes also called a confusion matrix), is a table with two rows and two columns that reports the number of false positives, false negatives, true positives, and true negatives. This allows more detailed analysis than mere proportion of correct classifications (accuracy).\n",
    "    \n",
    "           1. True Positive Rate (TPR)  = 529\n",
    "           2. False Positive Rate (FPR) = 3084\n",
    "           3. False Negative Rate (FNR) = 440\n",
    "           4. True Negative Rate (TNR)  = 25947"
   ]
  },
  {
   "cell_type": "markdown",
   "metadata": {
    "_uuid": "b8fa8e96e8f75609ea6a117483c68b1bec1e2d22"
   },
   "source": [
    "** 5.4 Using TF-IDF  Average Weighted Word2Vec**"
   ]
  },
  {
   "cell_type": "code",
   "execution_count": 96,
   "metadata": {
    "_uuid": "585993122a68036c1d10ed4d948e5f6ffb84a2cd",
    "scrolled": false
   },
   "outputs": [
    {
     "name": "stdout",
     "output_type": "stream",
     "text": [
      "For Depth =  1 CV Score =  0.8763285760370263\n",
      "For Depth =  3 CV Score =  0.8763285760370263\n",
      "For Depth =  5 CV Score =  0.8763285760370263\n",
      "For Depth =  7 CV Score =  0.8763285760370263\n",
      "For Depth =  9 CV Score =  0.8763285760370263\n",
      "For Depth =  11 CV Score =  0.8763285760370263\n",
      "For Depth =  13 CV Score =  0.8763285760370263\n"
     ]
    },
    {
     "data": {
      "image/png": "[encoded data removed]",
      "text/plain": [
       "<matplotlib.figure.Figure at 0x7f16f722dba8>"
      ]
     },
     "metadata": {},
     "output_type": "display_data"
    },
    {
     "name": "stdout",
     "output_type": "stream",
     "text": [
      "[1, 3, 5, 7, 9, 11, 13]\n",
      "[0.8763285760370263, 0.8763285760370263, 0.8763285760370263, 0.8763285760370263, 0.8763285760370263, 0.8763285760370263, 0.8763285760370263]\n",
      "1\n",
      "The Accuracy of Decision Tree Algorithm with tree depth =  1 and  TF-IDF Average Weighted Word2Vec  vectorization is:  87.96\n",
      "the misclassification error for each Tree Depth value is :  [0.124 0.124 0.124 0.124 0.124 0.124 0.124]\n"
     ]
    },
    {
     "data": {
      "image/png": "[encoded data removed]",
      "text/plain": [
       "<matplotlib.figure.Figure at 0x7f16ff86d6a0>"
      ]
     },
     "metadata": {},
     "output_type": "display_data"
    },
    {
     "name": "stdout",
     "output_type": "stream",
     "text": [
      "F1 score for Decision Tree algorithm with tree depth = 1  is  46.8\n",
      "Recall for Decision Tree agorithm with tree depth = 1  is  50.0\n",
      "Precision for Decision Tree algorithm with tree depth = 1  is  43.98\n",
      "\n",
      " Classification report for Decision Tree algorithm with tree depth = 1  is \n",
      "               precision    recall  f1-score   support\n",
      "\n",
      "   negative       0.00      0.00      0.00      3613\n",
      "   positive       0.88      1.00      0.94     26387\n",
      "\n",
      "avg / total       0.77      0.88      0.82     30000\n",
      "\n"
     ]
    }
   ],
   "source": [
    "tfidf_feat = tf_idf_vec.get_feature_names() # tfidf words/col-names\n",
    "# final_tf_idf is the sparse matrix with row= sentence, col=word and cell_val = tfidf\n",
    "\n",
    "tfidf_sent_vectors = []; # the tfidf-w2v for each sentence/review is stored in this list\n",
    "row=0;\n",
    "for sent in list_of_sent: # for each review/sentence\n",
    "    sent_vec = np.zeros(50) # as word vectors are of zero length\n",
    "    weight_sum =0; # num of words with a valid vector in the sentence/review\n",
    "    for word in sent: # for each word in a review/sentence\n",
    "        try:\n",
    "            vec = w2v_model.wv[word]\n",
    "            # obtain the tf_idfidf of a word in a sentence/review\n",
    "            tfidf = vect_tfidf[row, tfidf_feat.index(word)]\n",
    "            sent_vec += (vec * tf_idf)\n",
    "            weight_sum += tf_idf\n",
    "        except:\n",
    "            pass\n",
    "    \n",
    "    try:\n",
    "        sent_vec /= weight_sum\n",
    "    except:\n",
    "        pass\n",
    "    \n",
    "    tfidf_sent_vectors.append(sent_vec)\n",
    "    row += 1\n",
    "    \n",
    "#X_tr_vec = np.nan_to_num(X_tr)\n",
    "#X_cv_vec = np.nan_to_num(X_cv)\n",
    "\n",
    "#Splitting into TRaining and Testing Set, and using only Training set for Word2Vec Training\n",
    "X_1, X_test, y_1, y_test = cross_validation.train_test_split(tfidf_sent_vectors, final['Score'], random_state = 0,test_size = 0.3)\n",
    "\n",
    "X_1_tr = np.nan_to_num(X_1)\n",
    "X_test_cv = np.nan_to_num(X_test)\n",
    "\n",
    "#Decision Tree Algorithm on Word2Vec\n",
    "runDT(X_1_tr, X_test_cv, y_1, y_test,'TF-IDF Average Weighted Word2Vec')"
   ]
  },
  {
   "cell_type": "markdown",
   "metadata": {},
   "source": [
    "**Observations:-**\n",
    "\n",
    "* I've applied TF-IDF Avg Weighted Word2Vec Feature Generation Technique to convert text to numeric vector.\n",
    "    \n",
    "* I've already sorted the data by Time, So here I've divided the data into three parts\n",
    "            1. Train Data (49%)\n",
    "            2. Data for Cross Validation (21%)\n",
    "            3. Test Data (30 %)\n",
    "            \n",
    "* At Tree Depth '1' we got highest Accuarcy rate i.e 87.96%.\n",
    "    \n",
    "* In predictive analytics, a table of confusion (sometimes also called a confusion matrix), is a table with two rows and two columns that reports the number of false positives, false negatives, true positives, and true negatives. This allows more detailed analysis than mere proportion of correct classifications (accuracy).\n",
    "    \n",
    "           1. True Positive Rate (TPR)  = 0\n",
    "           2. False Positive Rate (FPR) = 3613\n",
    "           3. False Negative Rate (FNR) = 0\n",
    "           4. True Negative Rate (TNR)  = 26387"
   ]
  },
  {
   "cell_type": "markdown",
   "metadata": {
    "_uuid": "81f4b013b9788c3929c170a7f9f08287bb137916",
    "collapsed": true
   },
   "source": [
    "# 6. Decision Tree on Featurization Techniques - Tabular Result"
   ]
  },
  {
   "cell_type": "code",
   "execution_count": 109,
   "metadata": {
    "_uuid": "a1ab094111cdc809b592da3c0e983ff450f01bf6"
   },
   "outputs": [
    {
     "name": "stdout",
     "output_type": "stream",
     "text": [
      "Decision Tree on Featurization Techniques\n"
     ]
    },
    {
     "data": {
      "text/html": [
       "<div>\n",
       "<style scoped>\n",
       "    .dataframe tbody tr th:only-of-type {\n",
       "        vertical-align: middle;\n",
       "    }\n",
       "\n",
       "    .dataframe tbody tr th {\n",
       "        vertical-align: top;\n",
       "    }\n",
       "\n",
       "    .dataframe thead th {\n",
       "        text-align: right;\n",
       "    }\n",
       "</style>\n",
       "<table border=\"1\" class=\"dataframe\">\n",
       "  <thead>\n",
       "    <tr style=\"text-align: right;\">\n",
       "      <th></th>\n",
       "      <th>1. Model</th>\n",
       "      <th>2. Tree Depth</th>\n",
       "      <th>3. Test Accuracy (%)</th>\n",
       "      <th>4. F1 Score (%)</th>\n",
       "      <th>5. Recall (%)</th>\n",
       "      <th>6. Precision (%)</th>\n",
       "      <th>7. Train Error (%)</th>\n",
       "    </tr>\n",
       "  </thead>\n",
       "  <tbody>\n",
       "    <tr>\n",
       "      <th>0</th>\n",
       "      <td>BOW</td>\n",
       "      <td>13</td>\n",
       "      <td>88.72</td>\n",
       "      <td>63.95</td>\n",
       "      <td>60.68</td>\n",
       "      <td>76.71</td>\n",
       "      <td>11.2</td>\n",
       "    </tr>\n",
       "    <tr>\n",
       "      <th>1</th>\n",
       "      <td>TF-IDF</td>\n",
       "      <td>13</td>\n",
       "      <td>88.58</td>\n",
       "      <td>62.51</td>\n",
       "      <td>59.51</td>\n",
       "      <td>76.51</td>\n",
       "      <td>11.3</td>\n",
       "    </tr>\n",
       "    <tr>\n",
       "      <th>2</th>\n",
       "      <td>WORD2VEC</td>\n",
       "      <td>5</td>\n",
       "      <td>88.25</td>\n",
       "      <td>58.37</td>\n",
       "      <td>56.49</td>\n",
       "      <td>71.98</td>\n",
       "      <td>12.0</td>\n",
       "    </tr>\n",
       "    <tr>\n",
       "      <th>3</th>\n",
       "      <td>AVG W2V</td>\n",
       "      <td>1</td>\n",
       "      <td>87.96</td>\n",
       "      <td>46.80</td>\n",
       "      <td>50.00</td>\n",
       "      <td>43.98</td>\n",
       "      <td>12.4</td>\n",
       "    </tr>\n",
       "  </tbody>\n",
       "</table>\n",
       "</div>"
      ],
      "text/plain": [
       "   1. Model  2. Tree Depth  3. Test Accuracy (%)  4. F1 Score (%)  \\\n",
       "0       BOW             13                 88.72            63.95   \n",
       "1    TF-IDF             13                 88.58            62.51   \n",
       "2  WORD2VEC              5                 88.25            58.37   \n",
       "3   AVG W2V              1                 87.96            46.80   \n",
       "\n",
       "   5. Recall (%)  6. Precision (%)  7. Train Error (%)  \n",
       "0          60.68             76.71                11.2  \n",
       "1          59.51             76.51                11.3  \n",
       "2          56.49             71.98                12.0  \n",
       "3          50.00             43.98                12.4  "
      ]
     },
     "execution_count": 109,
     "metadata": {},
     "output_type": "execute_result"
    }
   ],
   "source": [
    "import pandas as pd\n",
    "print(\"Decision Tree on Featurization Techniques\")\n",
    "dataframe = pd.DataFrame(\n",
    "{\n",
    "    \"1. Model\": ['BOW','TF-IDF','WORD2VEC','AVG W2V'],\n",
    "    \"2. Tree Depth\": [13,13,5,1],\n",
    "    \"3. Test Accuracy (%)\": [88.72,88.58,88.25,87.96],\n",
    "    \"4. F1 Score (%)\": [63.95,62.51,58.37,46.8],\n",
    "    \"5. Recall (%)\": [60.68,59.51,56.49,50,],\n",
    "    \"6. Precision (%)\": [76.71,76.51,71.98,43.98],\n",
    "    \"7. Train Error (%)\": [11.2,11.3,12,12.4],    \n",
    "}\n",
    "\n",
    ")\n",
    "dataframe"
   ]
  },
  {
   "cell_type": "markdown",
   "metadata": {
    "_uuid": "ac399204b28610e24653a4c94d2ee228b19aea96",
    "collapsed": true
   },
   "source": [
    "# 7. Conclusion"
   ]
  },
  {
   "cell_type": "markdown",
   "metadata": {
    "_uuid": "9bac364887cfd89b8bb3792838b91218dc9af08d",
    "collapsed": true
   },
   "source": [
    "* The result of feature generation techniques and machine learning algorithms vary by application. But by comparing the accuracy of all 4 developed models, Decision Tree with BOW feature generation technique gives accuracy more than 88% which is the best to predict the polarity of reviews among all models. The best Tree Depth value is 13."
   ]
  },
  {
   "cell_type": "code",
   "execution_count": null,
   "metadata": {
    "_uuid": "1a8c58a6c4850439906cd237e9c105ac89bf53e9",
    "collapsed": true
   },
   "outputs": [],
   "source": []
  },
  {
   "cell_type": "code",
   "execution_count": null,
   "metadata": {
    "_uuid": "9c7d0ad356b09c1c00c7bfcb315c42d72823705a",
    "collapsed": true
   },
   "outputs": [],
   "source": []
  },
  {
   "cell_type": "code",
   "execution_count": null,
   "metadata": {
    "_uuid": "ed9b94eb877c62728074088679c70e22a07a4062",
    "collapsed": true
   },
   "outputs": [],
   "source": []
  }
 ],
 "metadata": {
  "kernelspec": {
   "display_name": "Python 3",
   "language": "python",
   "name": "python3"
  },
  "language_info": {
   "codemirror_mode": {
    "name": "ipython",
    "version": 3
   },
   "file_extension": ".py",
   "mimetype": "text/x-python",
   "name": "python",
   "nbconvert_exporter": "python",
   "pygments_lexer": "ipython3",
   "version": "3.6.5"
  }
 },
 "nbformat": 4,
 "nbformat_minor": 1
}
