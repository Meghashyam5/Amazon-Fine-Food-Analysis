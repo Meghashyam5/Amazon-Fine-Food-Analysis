{
 "cells": [
  {
   "cell_type": "markdown",
   "metadata": {
    "_uuid": "b0df00561d3f4564cc8f590401d3670a43527394"
   },
   "source": [
    "# Naive Bayes on Amazon Fine Food Reviews"
   ]
  },
  {
   "cell_type": "markdown",
   "metadata": {
    "_uuid": "bf37774eed523f6240466a0f0542fe0f9f89d84c"
   },
   "source": [
    "# Data Source: https://www.kaggle.com/snap/amazon-fine-food-reviews\n",
    "\n",
    "The Amazon Fine Food Reviews dataset consists of reviews of fine foods from Amazon.\n",
    "\n",
    "Number of reviews: 568,454\n",
    "Number of users: 256,059\n",
    "Number of products: 74,258\n",
    "Timespan: Oct 1999 - Oct 2012\n",
    "Number of Attributes/Columns in data: 10\n",
    "\n",
    "Attribute Information:\n",
    "\n",
    " 1. Id\n",
    " 2. ProductId - unique identifier for the product\n",
    " 3. UserId - unqiue identifier for the user\n",
    " 4. ProfileName\n",
    " 5. HelpfulnessNumerator - number of users who found the review helpful\n",
    " 6. HelpfulnessDenominator - number of users who indicated whether they found the review helpful or not\n",
    " 7. Score - rating between 1 and 5\n",
    " 8. Time - timestamp for the review\n",
    " 9. Summary - brief summary of the review\n",
    " 10.Text - text of the review\n",
    "\n",
    "Objective:\n",
    "\n",
    "* Given a review determine whether a review is positive or negative, by appling Naive Bayes algorithm and deciding the best Feature generation technique for given problem. Also to report the metrics for each iteration. Time based splitting to be followed.\n",
    "\n",
    "\n",
    "[Q] How to determine if a review is positive or negative?\n",
    "\n",
    "[Ans] We could use the Score/Rating. A rating of 4 or 5 could be cosnidered a positive review. A review of 1 or 2 could be considered negative. A review of 3 is nuetral and ignored. This is an approximate and proxy way of determining the polarity (positivity/negativity) of a review."
   ]
  },
  {
   "cell_type": "markdown",
   "metadata": {
    "_uuid": "b692f5fc8a43ea5aa672b3acf2af704196dcff8c"
   },
   "source": [
    "# 1. Loading the data\n",
    "\n",
    "The dataset is available in two forms\n",
    "1. .csv file\n",
    "2. SQLite Database\n",
    "\n",
    "In order to load the data, We have used the SQLITE dataset as it easier to query the data and visualise the data efficiently.\n",
    "<br> \n",
    "\n",
    "Here as we only want to get the global sentiment of the recommendations (positive or negative), we will purposefully ignore all Scores equal to 3. If the score id above 3, then the recommendation wil be set to \"positive\". Otherwise, it will be set to \"negative\"."
   ]
  },
  {
   "cell_type": "markdown",
   "metadata": {
    "_uuid": "bf17d343f5193352f0af5eb72136395607c3b155"
   },
   "source": [
    "# 2. Importing Required Packages"
   ]
  },
  {
   "cell_type": "code",
   "execution_count": 30,
   "metadata": {
    "_cell_guid": "79c7e3d0-c299-4dcb-8224-4455121ee9b0",
    "_uuid": "d629ff2d2480ee46fbb7e2d37f6b5fab8052498a"
   },
   "outputs": [],
   "source": [
    "# import packages\n",
    "\n",
    "import pandas as pd\n",
    "import numpy as np\n",
    "import matplotlib.pyplot as plt\n",
    "import seaborn as sns\n",
    "import string\n",
    "import sqlite3\n",
    "import re\n",
    "import nltk\n",
    "from nltk.corpus import stopwords\n",
    "from nltk.stem import PorterStemmer\n",
    "from nltk.stem import SnowballStemmer\n",
    "from nltk.stem.wordnet import WordNetLemmatizer\n",
    "from sklearn.neighbors import KNeighborsClassifier\n",
    "from sklearn.naive_bayes import BernoulliNB\n",
    "from sklearn.naive_bayes import MultinomialNB\n",
    "from sklearn.metrics import accuracy_score,precision_score,recall_score,confusion_matrix,classification_report,f1_score\n",
    "from sklearn.decomposition import TruncatedSVD\n",
    "from sklearn import cross_validation\n",
    "from sklearn.cross_validation import cross_val_score\n",
    "from sklearn.feature_extraction.text import CountVectorizer\n",
    "from sklearn.feature_extraction.text import TfidfVectorizer\n",
    "import gensim\n",
    "import warnings\n",
    "warnings.filterwarnings('ignore')"
   ]
  },
  {
   "cell_type": "code",
   "execution_count": 5,
   "metadata": {
    "_uuid": "aa2e658126bc609ac6e3165c4eaa3a63ea1372c6"
   },
   "outputs": [],
   "source": [
    "# creating sql connection string\n",
    "\n",
    "con = sqlite3.connect('database.sqlite')"
   ]
  },
  {
   "cell_type": "code",
   "execution_count": 6,
   "metadata": {
    "_uuid": "d6135b9b96877ece05169655e2b5f4c0467fe77a"
   },
   "outputs": [],
   "source": [
    "#filtering only positive and negative reviews i.e. \n",
    "# not taking into consideration those reviews with Score=3\n",
    "\n",
    "filtered_data = pd.read_sql_query(\"\"\"\n",
    "SELECT *\n",
    "FROM Reviews\n",
    "WHERE Score != 3\n",
    "\"\"\", con) \n",
    "\n",
    "# Give reviews with Score>3 a positive rating, and reviews with a score<3 a negative rating.\n",
    "\n",
    "def partition(x):\n",
    "    if x < 3:\n",
    "        return 'negative'\n",
    "    return 'positive'\n",
    "\n",
    "#changing reviews with score less than 3 to be positive and vice-versa\n",
    "\n",
    "actualScore = filtered_data['Score']\n",
    "positiveNegative = actualScore.map(partition) \n",
    "filtered_data['Score'] = positiveNegative"
   ]
  },
  {
   "cell_type": "code",
   "execution_count": 7,
   "metadata": {
    "_uuid": "02311ca3d483dff1c42cb2e48e263e290f20c65c",
    "scrolled": false
   },
   "outputs": [
    {
     "data": {
      "text/html": [
       "<div>\n",
       "<style scoped>\n",
       "    .dataframe tbody tr th:only-of-type {\n",
       "        vertical-align: middle;\n",
       "    }\n",
       "\n",
       "    .dataframe tbody tr th {\n",
       "        vertical-align: top;\n",
       "    }\n",
       "\n",
       "    .dataframe thead th {\n",
       "        text-align: right;\n",
       "    }\n",
       "</style>\n",
       "<table border=\"1\" class=\"dataframe\">\n",
       "  <thead>\n",
       "    <tr style=\"text-align: right;\">\n",
       "      <th></th>\n",
       "      <th>Id</th>\n",
       "      <th>ProductId</th>\n",
       "      <th>UserId</th>\n",
       "      <th>ProfileName</th>\n",
       "      <th>HelpfulnessNumerator</th>\n",
       "      <th>HelpfulnessDenominator</th>\n",
       "      <th>Score</th>\n",
       "      <th>Time</th>\n",
       "      <th>Summary</th>\n",
       "      <th>Text</th>\n",
       "    </tr>\n",
       "  </thead>\n",
       "  <tbody>\n",
       "    <tr>\n",
       "      <th>0</th>\n",
       "      <td>1</td>\n",
       "      <td>B001E4KFG0</td>\n",
       "      <td>A3SGXH7AUHU8GW</td>\n",
       "      <td>delmartian</td>\n",
       "      <td>1</td>\n",
       "      <td>1</td>\n",
       "      <td>positive</td>\n",
       "      <td>1303862400</td>\n",
       "      <td>Good Quality Dog Food</td>\n",
       "      <td>I have bought several of the Vitality canned d...</td>\n",
       "    </tr>\n",
       "    <tr>\n",
       "      <th>1</th>\n",
       "      <td>2</td>\n",
       "      <td>B00813GRG4</td>\n",
       "      <td>A1D87F6ZCVE5NK</td>\n",
       "      <td>dll pa</td>\n",
       "      <td>0</td>\n",
       "      <td>0</td>\n",
       "      <td>negative</td>\n",
       "      <td>1346976000</td>\n",
       "      <td>Not as Advertised</td>\n",
       "      <td>Product arrived labeled as Jumbo Salted Peanut...</td>\n",
       "    </tr>\n",
       "    <tr>\n",
       "      <th>2</th>\n",
       "      <td>3</td>\n",
       "      <td>B000LQOCH0</td>\n",
       "      <td>ABXLMWJIXXAIN</td>\n",
       "      <td>Natalia Corres \"Natalia Corres\"</td>\n",
       "      <td>1</td>\n",
       "      <td>1</td>\n",
       "      <td>positive</td>\n",
       "      <td>1219017600</td>\n",
       "      <td>\"Delight\" says it all</td>\n",
       "      <td>This is a confection that has been around a fe...</td>\n",
       "    </tr>\n",
       "    <tr>\n",
       "      <th>3</th>\n",
       "      <td>4</td>\n",
       "      <td>B000UA0QIQ</td>\n",
       "      <td>A395BORC6FGVXV</td>\n",
       "      <td>Karl</td>\n",
       "      <td>3</td>\n",
       "      <td>3</td>\n",
       "      <td>negative</td>\n",
       "      <td>1307923200</td>\n",
       "      <td>Cough Medicine</td>\n",
       "      <td>If you are looking for the secret ingredient i...</td>\n",
       "    </tr>\n",
       "    <tr>\n",
       "      <th>4</th>\n",
       "      <td>5</td>\n",
       "      <td>B006K2ZZ7K</td>\n",
       "      <td>A1UQRSCLF8GW1T</td>\n",
       "      <td>Michael D. Bigham \"M. Wassir\"</td>\n",
       "      <td>0</td>\n",
       "      <td>0</td>\n",
       "      <td>positive</td>\n",
       "      <td>1350777600</td>\n",
       "      <td>Great taffy</td>\n",
       "      <td>Great taffy at a great price.  There was a wid...</td>\n",
       "    </tr>\n",
       "  </tbody>\n",
       "</table>\n",
       "</div>"
      ],
      "text/plain": [
       "   Id   ProductId          UserId                      ProfileName  \\\n",
       "0   1  B001E4KFG0  A3SGXH7AUHU8GW                       delmartian   \n",
       "1   2  B00813GRG4  A1D87F6ZCVE5NK                           dll pa   \n",
       "2   3  B000LQOCH0   ABXLMWJIXXAIN  Natalia Corres \"Natalia Corres\"   \n",
       "3   4  B000UA0QIQ  A395BORC6FGVXV                             Karl   \n",
       "4   5  B006K2ZZ7K  A1UQRSCLF8GW1T    Michael D. Bigham \"M. Wassir\"   \n",
       "\n",
       "   HelpfulnessNumerator  HelpfulnessDenominator     Score        Time  \\\n",
       "0                     1                       1  positive  1303862400   \n",
       "1                     0                       0  negative  1346976000   \n",
       "2                     1                       1  positive  1219017600   \n",
       "3                     3                       3  negative  1307923200   \n",
       "4                     0                       0  positive  1350777600   \n",
       "\n",
       "                 Summary                                               Text  \n",
       "0  Good Quality Dog Food  I have bought several of the Vitality canned d...  \n",
       "1      Not as Advertised  Product arrived labeled as Jumbo Salted Peanut...  \n",
       "2  \"Delight\" says it all  This is a confection that has been around a fe...  \n",
       "3         Cough Medicine  If you are looking for the secret ingredient i...  \n",
       "4            Great taffy  Great taffy at a great price.  There was a wid...  "
      ]
     },
     "execution_count": 7,
     "metadata": {},
     "output_type": "execute_result"
    }
   ],
   "source": [
    "filtered_data.shape #looking at the number of attributes and size of the data\n",
    "filtered_data.head()"
   ]
  },
  {
   "cell_type": "markdown",
   "metadata": {
    "_uuid": "11156bc946256c9f7cf161d1ca5057b7e4048262"
   },
   "source": [
    "# 3. Time Based Splitting"
   ]
  },
  {
   "cell_type": "code",
   "execution_count": 8,
   "metadata": {
    "_uuid": "39779890f1e528e41b7e430f2c080dedf06e3bf8"
   },
   "outputs": [
    {
     "name": "stdout",
     "output_type": "stream",
     "text": [
      "(364173, 10)\n"
     ]
    },
    {
     "data": {
      "text/html": [
       "<div>\n",
       "<style scoped>\n",
       "    .dataframe tbody tr th:only-of-type {\n",
       "        vertical-align: middle;\n",
       "    }\n",
       "\n",
       "    .dataframe tbody tr th {\n",
       "        vertical-align: top;\n",
       "    }\n",
       "\n",
       "    .dataframe thead th {\n",
       "        text-align: right;\n",
       "    }\n",
       "</style>\n",
       "<table border=\"1\" class=\"dataframe\">\n",
       "  <thead>\n",
       "    <tr style=\"text-align: right;\">\n",
       "      <th></th>\n",
       "      <th>Id</th>\n",
       "      <th>ProductId</th>\n",
       "      <th>UserId</th>\n",
       "      <th>ProfileName</th>\n",
       "      <th>HelpfulnessNumerator</th>\n",
       "      <th>HelpfulnessDenominator</th>\n",
       "      <th>Score</th>\n",
       "      <th>Time</th>\n",
       "      <th>Summary</th>\n",
       "      <th>Text</th>\n",
       "    </tr>\n",
       "  </thead>\n",
       "  <tbody>\n",
       "    <tr>\n",
       "      <th>0</th>\n",
       "      <td>150524</td>\n",
       "      <td>0006641040</td>\n",
       "      <td>ACITT7DI6IDDL</td>\n",
       "      <td>shari zychinski</td>\n",
       "      <td>0</td>\n",
       "      <td>0</td>\n",
       "      <td>positive</td>\n",
       "      <td>1999-10-08 05:30:00</td>\n",
       "      <td>EVERY book is educational</td>\n",
       "      <td>this witty little book makes my son laugh at l...</td>\n",
       "    </tr>\n",
       "    <tr>\n",
       "      <th>1</th>\n",
       "      <td>150501</td>\n",
       "      <td>0006641040</td>\n",
       "      <td>AJ46FKXOVC7NR</td>\n",
       "      <td>Nicholas A Mesiano</td>\n",
       "      <td>2</td>\n",
       "      <td>2</td>\n",
       "      <td>positive</td>\n",
       "      <td>1999-10-25 05:30:00</td>\n",
       "      <td>This whole series is great way to spend time w...</td>\n",
       "      <td>I can remember seeing the show when it aired o...</td>\n",
       "    </tr>\n",
       "    <tr>\n",
       "      <th>2</th>\n",
       "      <td>451856</td>\n",
       "      <td>B00004CXX9</td>\n",
       "      <td>AIUWLEQ1ADEG5</td>\n",
       "      <td>Elizabeth Medina</td>\n",
       "      <td>0</td>\n",
       "      <td>0</td>\n",
       "      <td>positive</td>\n",
       "      <td>1999-12-02 05:30:00</td>\n",
       "      <td>Entertainingl Funny!</td>\n",
       "      <td>Beetlejuice is a well written movie ..... ever...</td>\n",
       "    </tr>\n",
       "    <tr>\n",
       "      <th>3</th>\n",
       "      <td>374359</td>\n",
       "      <td>B00004CI84</td>\n",
       "      <td>A344SMIA5JECGM</td>\n",
       "      <td>Vincent P. Ross</td>\n",
       "      <td>1</td>\n",
       "      <td>2</td>\n",
       "      <td>positive</td>\n",
       "      <td>1999-12-06 05:30:00</td>\n",
       "      <td>A modern day fairy tale</td>\n",
       "      <td>A twist of rumplestiskin captured on film, sta...</td>\n",
       "    </tr>\n",
       "    <tr>\n",
       "      <th>4</th>\n",
       "      <td>451855</td>\n",
       "      <td>B00004CXX9</td>\n",
       "      <td>AJH6LUC1UT1ON</td>\n",
       "      <td>The Phantom of the Opera</td>\n",
       "      <td>0</td>\n",
       "      <td>0</td>\n",
       "      <td>positive</td>\n",
       "      <td>2000-01-03 05:30:00</td>\n",
       "      <td>FANTASTIC!</td>\n",
       "      <td>Beetlejuice is an excellent and funny movie. K...</td>\n",
       "    </tr>\n",
       "  </tbody>\n",
       "</table>\n",
       "</div>"
      ],
      "text/plain": [
       "       Id   ProductId          UserId               ProfileName  \\\n",
       "0  150524  0006641040   ACITT7DI6IDDL           shari zychinski   \n",
       "1  150501  0006641040   AJ46FKXOVC7NR        Nicholas A Mesiano   \n",
       "2  451856  B00004CXX9   AIUWLEQ1ADEG5          Elizabeth Medina   \n",
       "3  374359  B00004CI84  A344SMIA5JECGM           Vincent P. Ross   \n",
       "4  451855  B00004CXX9   AJH6LUC1UT1ON  The Phantom of the Opera   \n",
       "\n",
       "   HelpfulnessNumerator  HelpfulnessDenominator     Score  \\\n",
       "0                     0                       0  positive   \n",
       "1                     2                       2  positive   \n",
       "2                     0                       0  positive   \n",
       "3                     1                       2  positive   \n",
       "4                     0                       0  positive   \n",
       "\n",
       "                  Time                                            Summary  \\\n",
       "0  1999-10-08 05:30:00                          EVERY book is educational   \n",
       "1  1999-10-25 05:30:00  This whole series is great way to spend time w...   \n",
       "2  1999-12-02 05:30:00                               Entertainingl Funny!   \n",
       "3  1999-12-06 05:30:00                            A modern day fairy tale   \n",
       "4  2000-01-03 05:30:00                                         FANTASTIC!   \n",
       "\n",
       "                                                Text  \n",
       "0  this witty little book makes my son laugh at l...  \n",
       "1  I can remember seeing the show when it aired o...  \n",
       "2  Beetlejuice is a well written movie ..... ever...  \n",
       "3  A twist of rumplestiskin captured on film, sta...  \n",
       "4  Beetlejuice is an excellent and funny movie. K...  "
      ]
     },
     "execution_count": 8,
     "metadata": {},
     "output_type": "execute_result"
    }
   ],
   "source": [
    "import datetime\n",
    "\n",
    "filtered_data[\"Time\"] = filtered_data[\"Time\"].map(lambda t: datetime.datetime.fromtimestamp(int(t)).strftime('%Y-%m-%d %H:%M:%S'))\n",
    "\n",
    "sortedData = filtered_data.sort_values('ProductId',axis=0,kind=\"quicksort\", ascending=True)\n",
    "final = sortedData.drop_duplicates(subset={\"UserId\",\"ProfileName\",\"Time\",\"Text\"},keep=\"first\",inplace=False)\n",
    "\n",
    "#sording data by timestamp so that it can be devided in train and test dataset for time based slicing.\n",
    "final = final.sort_values('Time',axis=0,kind=\"quicksort\", ascending=True).reset_index(drop=True)\n",
    "\n",
    "print(final.shape)\n",
    "final.head()"
   ]
  },
  {
   "cell_type": "markdown",
   "metadata": {
    "_uuid": "151f3c2cd28b9b867fdbfaae9d73b62577bd7667"
   },
   "source": [
    "# Exploratory Data Analysis"
   ]
  },
  {
   "cell_type": "markdown",
   "metadata": {
    "_uuid": "ffd818d869680f26ad1297a8f6eb9904635d86b8"
   },
   "source": [
    "4. Data Cleaning: Deduplication"
   ]
  },
  {
   "cell_type": "markdown",
   "metadata": {
    "_uuid": "4bdaac82f86a1d185e19e78370c8632cfca25ac7"
   },
   "source": [
    "It is observed (as shown in the table below) that the reviews data had many duplicate entries. Hence it was necessary to remove duplicates in order to get unbiased results for the analysis of the data. Following is an example:"
   ]
  },
  {
   "cell_type": "code",
   "execution_count": 9,
   "metadata": {
    "_uuid": "c796c6f4aac2e154276cf11cdab6dd0206e5cdcc"
   },
   "outputs": [
    {
     "data": {
      "text/html": [
       "<div>\n",
       "<style scoped>\n",
       "    .dataframe tbody tr th:only-of-type {\n",
       "        vertical-align: middle;\n",
       "    }\n",
       "\n",
       "    .dataframe tbody tr th {\n",
       "        vertical-align: top;\n",
       "    }\n",
       "\n",
       "    .dataframe thead th {\n",
       "        text-align: right;\n",
       "    }\n",
       "</style>\n",
       "<table border=\"1\" class=\"dataframe\">\n",
       "  <thead>\n",
       "    <tr style=\"text-align: right;\">\n",
       "      <th></th>\n",
       "      <th>Id</th>\n",
       "      <th>ProductId</th>\n",
       "      <th>UserId</th>\n",
       "      <th>ProfileName</th>\n",
       "      <th>HelpfulnessNumerator</th>\n",
       "      <th>HelpfulnessDenominator</th>\n",
       "      <th>Score</th>\n",
       "      <th>Time</th>\n",
       "      <th>Summary</th>\n",
       "      <th>Text</th>\n",
       "    </tr>\n",
       "  </thead>\n",
       "  <tbody>\n",
       "    <tr>\n",
       "      <th>0</th>\n",
       "      <td>78445</td>\n",
       "      <td>B000HDL1RQ</td>\n",
       "      <td>AR5J8UI46CURR</td>\n",
       "      <td>Geetha Krishnan</td>\n",
       "      <td>2</td>\n",
       "      <td>2</td>\n",
       "      <td>5</td>\n",
       "      <td>1199577600</td>\n",
       "      <td>LOACKER QUADRATINI VANILLA WAFERS</td>\n",
       "      <td>DELICIOUS WAFERS. I FIND THAT EUROPEAN WAFERS ...</td>\n",
       "    </tr>\n",
       "    <tr>\n",
       "      <th>1</th>\n",
       "      <td>138317</td>\n",
       "      <td>B000HDOPYC</td>\n",
       "      <td>AR5J8UI46CURR</td>\n",
       "      <td>Geetha Krishnan</td>\n",
       "      <td>2</td>\n",
       "      <td>2</td>\n",
       "      <td>5</td>\n",
       "      <td>1199577600</td>\n",
       "      <td>LOACKER QUADRATINI VANILLA WAFERS</td>\n",
       "      <td>DELICIOUS WAFERS. I FIND THAT EUROPEAN WAFERS ...</td>\n",
       "    </tr>\n",
       "    <tr>\n",
       "      <th>2</th>\n",
       "      <td>138277</td>\n",
       "      <td>B000HDOPYM</td>\n",
       "      <td>AR5J8UI46CURR</td>\n",
       "      <td>Geetha Krishnan</td>\n",
       "      <td>2</td>\n",
       "      <td>2</td>\n",
       "      <td>5</td>\n",
       "      <td>1199577600</td>\n",
       "      <td>LOACKER QUADRATINI VANILLA WAFERS</td>\n",
       "      <td>DELICIOUS WAFERS. I FIND THAT EUROPEAN WAFERS ...</td>\n",
       "    </tr>\n",
       "    <tr>\n",
       "      <th>3</th>\n",
       "      <td>73791</td>\n",
       "      <td>B000HDOPZG</td>\n",
       "      <td>AR5J8UI46CURR</td>\n",
       "      <td>Geetha Krishnan</td>\n",
       "      <td>2</td>\n",
       "      <td>2</td>\n",
       "      <td>5</td>\n",
       "      <td>1199577600</td>\n",
       "      <td>LOACKER QUADRATINI VANILLA WAFERS</td>\n",
       "      <td>DELICIOUS WAFERS. I FIND THAT EUROPEAN WAFERS ...</td>\n",
       "    </tr>\n",
       "    <tr>\n",
       "      <th>4</th>\n",
       "      <td>155049</td>\n",
       "      <td>B000PAQ75C</td>\n",
       "      <td>AR5J8UI46CURR</td>\n",
       "      <td>Geetha Krishnan</td>\n",
       "      <td>2</td>\n",
       "      <td>2</td>\n",
       "      <td>5</td>\n",
       "      <td>1199577600</td>\n",
       "      <td>LOACKER QUADRATINI VANILLA WAFERS</td>\n",
       "      <td>DELICIOUS WAFERS. I FIND THAT EUROPEAN WAFERS ...</td>\n",
       "    </tr>\n",
       "  </tbody>\n",
       "</table>\n",
       "</div>"
      ],
      "text/plain": [
       "       Id   ProductId         UserId      ProfileName  HelpfulnessNumerator  \\\n",
       "0   78445  B000HDL1RQ  AR5J8UI46CURR  Geetha Krishnan                     2   \n",
       "1  138317  B000HDOPYC  AR5J8UI46CURR  Geetha Krishnan                     2   \n",
       "2  138277  B000HDOPYM  AR5J8UI46CURR  Geetha Krishnan                     2   \n",
       "3   73791  B000HDOPZG  AR5J8UI46CURR  Geetha Krishnan                     2   \n",
       "4  155049  B000PAQ75C  AR5J8UI46CURR  Geetha Krishnan                     2   \n",
       "\n",
       "   HelpfulnessDenominator  Score        Time  \\\n",
       "0                       2      5  1199577600   \n",
       "1                       2      5  1199577600   \n",
       "2                       2      5  1199577600   \n",
       "3                       2      5  1199577600   \n",
       "4                       2      5  1199577600   \n",
       "\n",
       "                             Summary  \\\n",
       "0  LOACKER QUADRATINI VANILLA WAFERS   \n",
       "1  LOACKER QUADRATINI VANILLA WAFERS   \n",
       "2  LOACKER QUADRATINI VANILLA WAFERS   \n",
       "3  LOACKER QUADRATINI VANILLA WAFERS   \n",
       "4  LOACKER QUADRATINI VANILLA WAFERS   \n",
       "\n",
       "                                                Text  \n",
       "0  DELICIOUS WAFERS. I FIND THAT EUROPEAN WAFERS ...  \n",
       "1  DELICIOUS WAFERS. I FIND THAT EUROPEAN WAFERS ...  \n",
       "2  DELICIOUS WAFERS. I FIND THAT EUROPEAN WAFERS ...  \n",
       "3  DELICIOUS WAFERS. I FIND THAT EUROPEAN WAFERS ...  \n",
       "4  DELICIOUS WAFERS. I FIND THAT EUROPEAN WAFERS ...  "
      ]
     },
     "execution_count": 9,
     "metadata": {},
     "output_type": "execute_result"
    }
   ],
   "source": [
    "display= pd.read_sql_query(\"\"\"\n",
    "SELECT *\n",
    "FROM Reviews\n",
    "WHERE Score != 3 AND UserId=\"AR5J8UI46CURR\"\n",
    "ORDER BY ProductID\n",
    "\"\"\", con)\n",
    "display"
   ]
  },
  {
   "cell_type": "markdown",
   "metadata": {
    "_uuid": "b46f95b7d19d7d25a882c2f0022235c4618cc662"
   },
   "source": [
    "As can be seen above the same user has multiple reviews of the with the same values for HelpfulnessNumerator, HelpfulnessDenominator, Score, Time, Summary and Text and on doing analysis it was found that \n",
    "\n",
    "ProductId=B000HDOPZG was Loacker Quadratini Vanilla Wafer Cookies, 8.82-Ounce Packages (Pack of 8)\n",
    "\n",
    "ProductId=B000HDL1RQ was Loacker Quadratini Lemon Wafer Cookies, 8.82-Ounce Packages (Pack of 8) and so on\n",
    "\n",
    "It was inferred after analysis that reviews with same parameters other than ProductId belonged to the same product just having different flavour or quantity. Hence in order to reduce redundancy it was decided to eliminate the rows having same parameters.\n",
    "\n",
    "The method used for the same was that we first sort the data according to ProductId and then just keep the first similar product review and delelte the others. for eg. in the above just the review for ProductId=B000HDL1RQ remains. This method ensures that there is only one representative for each product and deduplication without sorting would lead to possibility of different representatives still existing for the same product."
   ]
  },
  {
   "cell_type": "code",
   "execution_count": 10,
   "metadata": {
    "_uuid": "ca555fdd42c032d04d2ef64cb6eced992d55bce9"
   },
   "outputs": [
    {
     "data": {
      "text/plain": [
       "69.25890143662969"
      ]
     },
     "execution_count": 10,
     "metadata": {},
     "output_type": "execute_result"
    }
   ],
   "source": [
    "#Checking to see how much % of data still remains\n",
    "(final['Id'].size*1.0)/(filtered_data['Id'].size*1.0)*100"
   ]
  },
  {
   "cell_type": "markdown",
   "metadata": {
    "_uuid": "7b22e606c502bde1511cd126762e0d669a199728",
    "collapsed": true
   },
   "source": [
    "# Observation:- \n",
    "\n",
    "It was also seen that in two rows given below the value of HelpfulnessNumerator is greater than HelpfulnessDenominator which is not practically possible hence these two rows too are removed from calcualtions"
   ]
  },
  {
   "cell_type": "code",
   "execution_count": 11,
   "metadata": {
    "_uuid": "df7b9ec280b2b1d60fa043786c9c1ef3f52308ed"
   },
   "outputs": [
    {
     "data": {
      "text/html": [
       "<div>\n",
       "<style scoped>\n",
       "    .dataframe tbody tr th:only-of-type {\n",
       "        vertical-align: middle;\n",
       "    }\n",
       "\n",
       "    .dataframe tbody tr th {\n",
       "        vertical-align: top;\n",
       "    }\n",
       "\n",
       "    .dataframe thead th {\n",
       "        text-align: right;\n",
       "    }\n",
       "</style>\n",
       "<table border=\"1\" class=\"dataframe\">\n",
       "  <thead>\n",
       "    <tr style=\"text-align: right;\">\n",
       "      <th></th>\n",
       "      <th>Id</th>\n",
       "      <th>ProductId</th>\n",
       "      <th>UserId</th>\n",
       "      <th>ProfileName</th>\n",
       "      <th>HelpfulnessNumerator</th>\n",
       "      <th>HelpfulnessDenominator</th>\n",
       "      <th>Score</th>\n",
       "      <th>Time</th>\n",
       "      <th>Summary</th>\n",
       "      <th>Text</th>\n",
       "    </tr>\n",
       "  </thead>\n",
       "  <tbody>\n",
       "    <tr>\n",
       "      <th>0</th>\n",
       "      <td>64422</td>\n",
       "      <td>B000MIDROQ</td>\n",
       "      <td>A161DK06JJMCYF</td>\n",
       "      <td>J. E. Stephens \"Jeanne\"</td>\n",
       "      <td>3</td>\n",
       "      <td>1</td>\n",
       "      <td>5</td>\n",
       "      <td>1224892800</td>\n",
       "      <td>Bought This for My Son at College</td>\n",
       "      <td>My son loves spaghetti so I didn't hesitate or...</td>\n",
       "    </tr>\n",
       "    <tr>\n",
       "      <th>1</th>\n",
       "      <td>44737</td>\n",
       "      <td>B001EQ55RW</td>\n",
       "      <td>A2V0I904FH7ABY</td>\n",
       "      <td>Ram</td>\n",
       "      <td>3</td>\n",
       "      <td>2</td>\n",
       "      <td>4</td>\n",
       "      <td>1212883200</td>\n",
       "      <td>Pure cocoa taste with crunchy almonds inside</td>\n",
       "      <td>It was almost a 'love at first bite' - the per...</td>\n",
       "    </tr>\n",
       "  </tbody>\n",
       "</table>\n",
       "</div>"
      ],
      "text/plain": [
       "      Id   ProductId          UserId              ProfileName  \\\n",
       "0  64422  B000MIDROQ  A161DK06JJMCYF  J. E. Stephens \"Jeanne\"   \n",
       "1  44737  B001EQ55RW  A2V0I904FH7ABY                      Ram   \n",
       "\n",
       "   HelpfulnessNumerator  HelpfulnessDenominator  Score        Time  \\\n",
       "0                     3                       1      5  1224892800   \n",
       "1                     3                       2      4  1212883200   \n",
       "\n",
       "                                        Summary  \\\n",
       "0             Bought This for My Son at College   \n",
       "1  Pure cocoa taste with crunchy almonds inside   \n",
       "\n",
       "                                                Text  \n",
       "0  My son loves spaghetti so I didn't hesitate or...  \n",
       "1  It was almost a 'love at first bite' - the per...  "
      ]
     },
     "execution_count": 11,
     "metadata": {},
     "output_type": "execute_result"
    }
   ],
   "source": [
    "display= pd.read_sql_query(\"\"\"\n",
    "SELECT *\n",
    "FROM Reviews\n",
    "WHERE Score != 3 AND Id=44737 OR Id=64422\n",
    "ORDER BY ProductID\n",
    "\"\"\", con)\n",
    "display"
   ]
  },
  {
   "cell_type": "code",
   "execution_count": 12,
   "metadata": {
    "_uuid": "0b03f22c7a291f1945c467ae10f82f73eb516d1e"
   },
   "outputs": [],
   "source": [
    "final=final[final.HelpfulnessNumerator<=final.HelpfulnessDenominator]"
   ]
  },
  {
   "cell_type": "code",
   "execution_count": 13,
   "metadata": {
    "_uuid": "0996059e4dacbc63b03dfac61785552ae668dffd",
    "scrolled": false
   },
   "outputs": [
    {
     "name": "stdout",
     "output_type": "stream",
     "text": [
      "(364171, 10)\n"
     ]
    },
    {
     "data": {
      "text/plain": [
       "positive    307061\n",
       "negative     57110\n",
       "Name: Score, dtype: int64"
      ]
     },
     "execution_count": 13,
     "metadata": {},
     "output_type": "execute_result"
    }
   ],
   "source": [
    "#Before starting the next phase of preprocessing lets see the number of entries left\n",
    "print(final.shape)\n",
    "\n",
    "#How many positive and negative reviews are present in our dataset?\n",
    "final['Score'].value_counts()"
   ]
  },
  {
   "cell_type": "markdown",
   "metadata": {
    "_uuid": "8900f87d3d86e85fe913f577d6d040ae5dd75dd8",
    "collapsed": true
   },
   "source": [
    "# 5. Data Sampling"
   ]
  },
  {
   "cell_type": "code",
   "execution_count": 14,
   "metadata": {
    "_uuid": "94582259938c7044d47c0fa3f82a077778f098af"
   },
   "outputs": [
    {
     "name": "stdout",
     "output_type": "stream",
     "text": [
      "(100000, 10)\n",
      "positive    87730\n",
      "negative    12270\n",
      "Name: Score, dtype: int64\n"
     ]
    }
   ],
   "source": [
    "# Data Sampling\n",
    "final = final.iloc[:100000,:]\n",
    "print(final.shape)\n",
    "print(final['Score'].value_counts())"
   ]
  },
  {
   "cell_type": "code",
   "execution_count": null,
   "metadata": {
    "_uuid": "b7a447818b685552d074cc210a1bd0aaece9e5fc",
    "collapsed": true
   },
   "outputs": [],
   "source": []
  },
  {
   "cell_type": "markdown",
   "metadata": {
    "_uuid": "c8f4342a89dc0ddc029de2ea2104e4b890512a6b"
   },
   "source": [
    "# 6. Text Preprocessing: Stemming, stop-word removal and Lemmatization.\n",
    "\n",
    "Now that we have finished deduplication our data requires some preprocessing before we go on further with analysis and making the prediction model.\n",
    "\n",
    "Hence in the Preprocessing phase we do the following in the order below:-\n",
    "\n",
    "1. Begin by removing the html tags\n",
    "2. Remove any punctuations or limited set of special characters like , or . or # etc.\n",
    "3. Check if the word is made up of english letters and is not alpha-numeric\n",
    "4. Check to see if the length of the word is greater than 2 (as it was researched that there is no adjective in 2-letters)\n",
    "5. Convert the word to lowercase\n",
    "6. Remove Stopwords\n",
    "7. Finally Snowball Stemming the word (it was obsereved to be better than Porter Stemming)\n",
    "8. After which we collect the words used to describe positive and negative reviews"
   ]
  },
  {
   "cell_type": "code",
   "execution_count": 15,
   "metadata": {
    "_uuid": "f4ec713bf9959060c9603014c714f6e2187e50b4"
   },
   "outputs": [
    {
     "name": "stdout",
     "output_type": "stream",
     "text": [
      "8\n",
      "What happens when you say his name three times? Michael Keaten stars in this comedy about two couples that live in an old two story house.  While coming back from a supply store, the couple suddenly get caught inside of a  &quot;broken-up&quot; bridge and then just before they start to tumble down  into the lake, a board catches them.  But just when they've got their hopes  up, and small dog steps on the board and the car starts to slide off the  bridge and into the lake waters.  A few minutes later...<p>They find  themselves back into their home, they find that somehow somehad light the  fireplace, as if done by magic.  From then on, they find a weird-looking  dead guy known as Bettlejuice.  The only way they can get him for help is  to call him by his name three times and he will appear at their survice.  But they soon wish that they have never called his name, because  Bettlejuice was once a troublemaker but he is the only one who can save  them, on the account that they said his name three times.  They can't leave  their houses or else they will find theirselves in another world with giant  sandworms.  This is a stellar comedy that you should see! Michael Keaton is  awesome as he plays the leading role of Bettlejuice.\n"
     ]
    }
   ],
   "source": [
    "# find sentences containing HTML tags\n",
    "\n",
    "i=0;\n",
    "for sent in final['Text'].values:\n",
    "    if (len(re.findall('<.*?>', sent))):\n",
    "        print(i)\n",
    "        print(sent)\n",
    "        break;\n",
    "    i += 1; "
   ]
  },
  {
   "cell_type": "code",
   "execution_count": 19,
   "metadata": {
    "_uuid": "1ee064d6af90ee1a7d59c656ed09aa667e67cf08"
   },
   "outputs": [
    {
     "name": "stdout",
     "output_type": "stream",
     "text": [
      "[nltk_data] Downloading package stopwords to\n",
      "[nltk_data]     C:\\Users\\Intel\\AppData\\Roaming\\nltk_data...\n",
      "[nltk_data]   Unzipping corpora\\stopwords.zip.\n"
     ]
    }
   ],
   "source": [
    "import nltk\n",
    "nltk.download('stopwords')\n",
    "\n",
    "import re\n",
    "# Tutorial about Python regular expressions: https://pymotw.com/2/re/\n",
    "import string\n",
    "from nltk.corpus import stopwords\n",
    "from nltk.stem import PorterStemmer\n",
    "from nltk.stem.wordnet import WordNetLemmatizer\n",
    "\n",
    "stop = set(stopwords.words('english')) #set of stopwords\n",
    "sno = nltk.stem.SnowballStemmer('english') #initialising the snowball stemmer\n",
    "\n",
    "def cleanhtml(sentence): #function to clean the word of any html-tags\n",
    "    cleanr = re.compile('<.*?>')\n",
    "    cleantext = re.sub(cleanr, ' ', sentence)\n",
    "    return cleantext\n",
    "def cleanpunc(sentence): #function to clean the word of any punctuation or special characters\n",
    "    cleaned = re.sub(r'[?|!|\\'|\"|#]',r'',sentence)\n",
    "    cleaned = re.sub(r'[.|,|)|(|\\|/]',r' ',cleaned)\n",
    "    return  cleaned"
   ]
  },
  {
   "cell_type": "code",
   "execution_count": 20,
   "metadata": {
    "_uuid": "3e4a69009371b9891e4509dc0ae8136da7e0a9fa"
   },
   "outputs": [],
   "source": [
    "#Code for implementing step-by-step the checks mentioned in the pre-processing phase\n",
    "# this code takes a while to run as it needs to run on 500k sentences.\n",
    "i=0\n",
    "str1=' '\n",
    "final_string=[]\n",
    "all_positive_words=[] # store words from +ve reviews here\n",
    "all_negative_words=[] # store words from -ve reviews here.\n",
    "s=''\n",
    "for sent in final['Text'].values:\n",
    "    filtered_sentence=[]\n",
    "    #print(sent);\n",
    "    sent=cleanhtml(sent) # remove HTMl tags\n",
    "    for w in sent.split():\n",
    "        for cleaned_words in cleanpunc(w).split():\n",
    "            if((cleaned_words.isalpha()) & (len(cleaned_words)>2)):    \n",
    "                if(cleaned_words.lower() not in stop):\n",
    "                    s=(sno.stem(cleaned_words.lower())).encode('utf8')\n",
    "                    filtered_sentence.append(s)\n",
    "                    if (final['Score'].values)[i] == 'positive': \n",
    "                        all_positive_words.append(s) #list of all words used to describe positive reviews\n",
    "                    if(final['Score'].values)[i] == 'negative':\n",
    "                        all_negative_words.append(s) #list of all words used to describe negative reviews reviews\n",
    "                else:\n",
    "                    continue\n",
    "            else:\n",
    "                continue \n",
    "    #print(filtered_sentence)\n",
    "    str1 = b\" \".join(filtered_sentence) #final string of cleaned words\n",
    "    #print(\"***********************************************************************\")\n",
    "    \n",
    "    final_string.append(str1)\n",
    "    i+=1"
   ]
  },
  {
   "cell_type": "code",
   "execution_count": 21,
   "metadata": {
    "_uuid": "4f4024fc65d893a3eede3bbb024fabdd89c25c75"
   },
   "outputs": [
    {
     "name": "stdout",
     "output_type": "stream",
     "text": [
      "Most Common Positive Words :  [(b'like', 36906), (b'tast', 35305), (b'good', 30952), (b'flavor', 29987), (b'tea', 29849), (b'great', 29549), (b'love', 28268), (b'use', 27551), (b'one', 26049), (b'product', 24778)]\n",
      "Most Common Negative Words :  [(b'tast', 7222), (b'like', 6589), (b'product', 5935), (b'one', 4429), (b'flavor', 4081), (b'tri', 3696), (b'would', 3646), (b'good', 3265), (b'use', 3054), (b'tea', 2861)]\n"
     ]
    }
   ],
   "source": [
    "# Finding most frequently occuring Positive and Negative words \n",
    "\n",
    "freq_dist_positive=nltk.FreqDist(all_positive_words)\n",
    "freq_dist_negative=nltk.FreqDist(all_negative_words)\n",
    "print(\"Most Common Positive Words : \",freq_dist_positive.most_common(10))\n",
    "print(\"Most Common Negative Words : \",freq_dist_negative.most_common(10))"
   ]
  },
  {
   "cell_type": "code",
   "execution_count": 22,
   "metadata": {
    "_uuid": "61549327949464285424be780346ee8c7c5d927e",
    "scrolled": false
   },
   "outputs": [
    {
     "data": {
      "text/html": [
       "<div>\n",
       "<style scoped>\n",
       "    .dataframe tbody tr th:only-of-type {\n",
       "        vertical-align: middle;\n",
       "    }\n",
       "\n",
       "    .dataframe tbody tr th {\n",
       "        vertical-align: top;\n",
       "    }\n",
       "\n",
       "    .dataframe thead th {\n",
       "        text-align: right;\n",
       "    }\n",
       "</style>\n",
       "<table border=\"1\" class=\"dataframe\">\n",
       "  <thead>\n",
       "    <tr style=\"text-align: right;\">\n",
       "      <th></th>\n",
       "      <th>Id</th>\n",
       "      <th>ProductId</th>\n",
       "      <th>UserId</th>\n",
       "      <th>ProfileName</th>\n",
       "      <th>HelpfulnessNumerator</th>\n",
       "      <th>HelpfulnessDenominator</th>\n",
       "      <th>Score</th>\n",
       "      <th>Time</th>\n",
       "      <th>Summary</th>\n",
       "      <th>Text</th>\n",
       "      <th>CleanedText</th>\n",
       "    </tr>\n",
       "  </thead>\n",
       "  <tbody>\n",
       "    <tr>\n",
       "      <th>0</th>\n",
       "      <td>150524</td>\n",
       "      <td>0006641040</td>\n",
       "      <td>ACITT7DI6IDDL</td>\n",
       "      <td>shari zychinski</td>\n",
       "      <td>0</td>\n",
       "      <td>0</td>\n",
       "      <td>positive</td>\n",
       "      <td>1999-10-08 05:30:00</td>\n",
       "      <td>EVERY book is educational</td>\n",
       "      <td>this witty little book makes my son laugh at l...</td>\n",
       "      <td>b'witti littl book make son laugh loud recit c...</td>\n",
       "    </tr>\n",
       "    <tr>\n",
       "      <th>1</th>\n",
       "      <td>150501</td>\n",
       "      <td>0006641040</td>\n",
       "      <td>AJ46FKXOVC7NR</td>\n",
       "      <td>Nicholas A Mesiano</td>\n",
       "      <td>2</td>\n",
       "      <td>2</td>\n",
       "      <td>positive</td>\n",
       "      <td>1999-10-25 05:30:00</td>\n",
       "      <td>This whole series is great way to spend time w...</td>\n",
       "      <td>I can remember seeing the show when it aired o...</td>\n",
       "      <td>b'rememb see show air televis year ago child s...</td>\n",
       "    </tr>\n",
       "    <tr>\n",
       "      <th>2</th>\n",
       "      <td>451856</td>\n",
       "      <td>B00004CXX9</td>\n",
       "      <td>AIUWLEQ1ADEG5</td>\n",
       "      <td>Elizabeth Medina</td>\n",
       "      <td>0</td>\n",
       "      <td>0</td>\n",
       "      <td>positive</td>\n",
       "      <td>1999-12-02 05:30:00</td>\n",
       "      <td>Entertainingl Funny!</td>\n",
       "      <td>Beetlejuice is a well written movie ..... ever...</td>\n",
       "      <td>b'beetlejuic well written movi everyth excel a...</td>\n",
       "    </tr>\n",
       "    <tr>\n",
       "      <th>3</th>\n",
       "      <td>374359</td>\n",
       "      <td>B00004CI84</td>\n",
       "      <td>A344SMIA5JECGM</td>\n",
       "      <td>Vincent P. Ross</td>\n",
       "      <td>1</td>\n",
       "      <td>2</td>\n",
       "      <td>positive</td>\n",
       "      <td>1999-12-06 05:30:00</td>\n",
       "      <td>A modern day fairy tale</td>\n",
       "      <td>A twist of rumplestiskin captured on film, sta...</td>\n",
       "      <td>b'twist rumplestiskin captur film star michael...</td>\n",
       "    </tr>\n",
       "    <tr>\n",
       "      <th>4</th>\n",
       "      <td>451855</td>\n",
       "      <td>B00004CXX9</td>\n",
       "      <td>AJH6LUC1UT1ON</td>\n",
       "      <td>The Phantom of the Opera</td>\n",
       "      <td>0</td>\n",
       "      <td>0</td>\n",
       "      <td>positive</td>\n",
       "      <td>2000-01-03 05:30:00</td>\n",
       "      <td>FANTASTIC!</td>\n",
       "      <td>Beetlejuice is an excellent and funny movie. K...</td>\n",
       "      <td>b'beetlejuic excel funni movi keaton hilari wa...</td>\n",
       "    </tr>\n",
       "  </tbody>\n",
       "</table>\n",
       "</div>"
      ],
      "text/plain": [
       "       Id   ProductId          UserId               ProfileName  \\\n",
       "0  150524  0006641040   ACITT7DI6IDDL           shari zychinski   \n",
       "1  150501  0006641040   AJ46FKXOVC7NR        Nicholas A Mesiano   \n",
       "2  451856  B00004CXX9   AIUWLEQ1ADEG5          Elizabeth Medina   \n",
       "3  374359  B00004CI84  A344SMIA5JECGM           Vincent P. Ross   \n",
       "4  451855  B00004CXX9   AJH6LUC1UT1ON  The Phantom of the Opera   \n",
       "\n",
       "   HelpfulnessNumerator  HelpfulnessDenominator     Score  \\\n",
       "0                     0                       0  positive   \n",
       "1                     2                       2  positive   \n",
       "2                     0                       0  positive   \n",
       "3                     1                       2  positive   \n",
       "4                     0                       0  positive   \n",
       "\n",
       "                  Time                                            Summary  \\\n",
       "0  1999-10-08 05:30:00                          EVERY book is educational   \n",
       "1  1999-10-25 05:30:00  This whole series is great way to spend time w...   \n",
       "2  1999-12-02 05:30:00                               Entertainingl Funny!   \n",
       "3  1999-12-06 05:30:00                            A modern day fairy tale   \n",
       "4  2000-01-03 05:30:00                                         FANTASTIC!   \n",
       "\n",
       "                                                Text  \\\n",
       "0  this witty little book makes my son laugh at l...   \n",
       "1  I can remember seeing the show when it aired o...   \n",
       "2  Beetlejuice is a well written movie ..... ever...   \n",
       "3  A twist of rumplestiskin captured on film, sta...   \n",
       "4  Beetlejuice is an excellent and funny movie. K...   \n",
       "\n",
       "                                         CleanedText  \n",
       "0  b'witti littl book make son laugh loud recit c...  \n",
       "1  b'rememb see show air televis year ago child s...  \n",
       "2  b'beetlejuic well written movi everyth excel a...  \n",
       "3  b'twist rumplestiskin captur film star michael...  \n",
       "4  b'beetlejuic excel funni movi keaton hilari wa...  "
      ]
     },
     "execution_count": 22,
     "metadata": {},
     "output_type": "execute_result"
    }
   ],
   "source": [
    "final['CleanedText']=final_string #adding a column of CleanedText which displays the data after pre-processing of the review\n",
    "final.head()"
   ]
  },
  {
   "cell_type": "markdown",
   "metadata": {
    "_uuid": "99c6be83e194548ac6092dcbc81bdfabbe462377"
   },
   "source": [
    "# Observations:-\n",
    "    \n",
    "    * I've performed the following Data preprocessing.\n",
    "\n",
    "        > Removed Stop-words\n",
    "        \n",
    "        > Removed any punctuations or limited set of special characters like , or . or # etc.\n",
    "        \n",
    "        > Snowball Stemming the word (The goal of both stemming and lemmatization is to reduce inflectional forms and sometimes derivationally related forms of a word to a common base form)\n",
    "        \n",
    "        > Converted the word to lowercase\n",
    "        \n",
    "    * I've added a column called 'CleanedText' which displays the data after pre-processing of the review. So,Now we have 1000 reviews with 11 columns\n",
    "    \n",
    "    * Out of 364k reviews, I 've sampled the data to 50k and applied naive bayes.\n",
    "    \n",
    "    * I've calculated the feature importance of both positive and negative classes and printed the top ten most common words"
   ]
  },
  {
   "cell_type": "markdown",
   "metadata": {
    "_uuid": "221073397a43f15182b96a3e33410b51618284eb",
    "collapsed": true
   },
   "source": [
    "# 7. Building Function to find Optimal Alpha value for Naive Bayes"
   ]
  },
  {
   "cell_type": "markdown",
   "metadata": {
    "_uuid": "9c18971784606778481cbaa45162a997bacf46c1"
   },
   "source": [
    "**7.1 Bernoulli Naive Bayes**"
   ]
  },
  {
   "cell_type": "code",
   "execution_count": 23,
   "metadata": {
    "_uuid": "f3724392c67fa45729c6feffd09ce6da90be499f"
   },
   "outputs": [],
   "source": [
    "# Container to store the results\n",
    "final_results = {}\n",
    "\n",
    "mu_final_results = {}"
   ]
  },
  {
   "cell_type": "code",
   "execution_count": 42,
   "metadata": {
    "_uuid": "95ccecd54542ba2d06a00ad8cb5773df74fcec2b"
   },
   "outputs": [],
   "source": [
    "# Function for Bernoulli Naive Bayes\n",
    "\n",
    "def runNB(X_tr_input,x_cv_input,y_tr_input,y_cv_input,VectorizationType):\n",
    "\n",
    "        cv_scores = []\n",
    "        Alpha_value = []\n",
    "            \n",
    "        j=0\n",
    "        for i in range(1,30,2):\n",
    "                nb = BernoulliNB(alpha=i)\n",
    "                scores = cross_val_score(nb, X_tr_input, y_tr_input, cv=10, scoring='accuracy')\n",
    "                cv_scores.append(scores.mean())\n",
    "                Alpha_value.append(i)\n",
    "                print('For Alpha = ', i,'Accuracy Score = ', cv_scores[j])\n",
    "                j+=1\n",
    "        print('BERNOULLI NAIVE BAYES')\n",
    "        plt.plot(Alpha_value,cv_scores,'.-')\n",
    "        plt.title('Alpha Value vs CV Scores')\n",
    "        plt.ylabel('CV Scores')\n",
    "        plt.xlabel('Alpha Value')\n",
    "        plt.show()\n",
    "        \n",
    "        # changing to misclassification error\n",
    "        MSE = [1 - x for x in cv_scores]\n",
    "                \n",
    "        # determining best alpha\n",
    "        alpha_optimum = Alpha_value[MSE.index(min(MSE))]\n",
    "        nb = BernoulliNB(alpha=alpha_optimum)\n",
    "        \n",
    "        # fitting the model on crossvalidation train\n",
    "        nb.fit(X_tr_input, y_tr_input)\n",
    "        \n",
    "        \n",
    "        # predict the response on the crossvalidation train\n",
    "        pred = nb.predict(x_cv_input)\n",
    "        print('The Accuracy of Bernoulli Naive Bayes with Alpha Value = ',alpha_optimum,'and ',VectorizationType,\n",
    "        ' vectorization is: ',np.round((accuracy_score(y_cv_input, pred)*100),decimals = 2))\n",
    "        final_results[VectorizationType] =accuracy_score(y_cv_input,pred)*100\n",
    "        \n",
    "        print(\"The Misclassification error for each Alpha value is : \", np.round(MSE,3))\n",
    "        print('\\nDetails for ',VectorizationType,'Vectorization:')\n",
    "        print('*'*50)\n",
    "        print('Accuracy for Bernoulli Naive Bayes algorithm with alpha =',alpha_optimum,' is ' ,np.round((accuracy_score(y_cv_input, pred)*100),decimals = 2))\n",
    "        print('F1 score for Bernoulli Naive Bayes algorithm with alpha =',alpha_optimum,' is ' , np.round((f1_score(y_cv_input, pred,average= 'macro')*100),decimals = 2))\n",
    "        print('Recall for Bernoulli Naive Bayes agorithm with alpha =',alpha_optimum,' is ' , np.round((recall_score(y_cv_input, pred,average= 'macro')*100),decimals = 2))\n",
    "        print('Precision for Bernoulli Naive Bayes algorithm with aplha =',alpha_optimum,' is ' , np.round((precision_score(y_cv_input, pred,average= 'macro')*100),decimals = 2))\n",
    "        print ('\\n Classification report for Bernoulli Naive Bayes algorithm with alpha =',alpha_optimum,' is \\n ' , classification_report(y_cv_input,pred))\n",
    "        \n",
    "        # Plot Confusion Matrix, F1 Score, Recall, Precision and Classification Report\n",
    "        from sklearn.metrics import confusion_matrix\n",
    "        import scikitplot.metrics as skplt\n",
    "        skplt.plot_confusion_matrix(y_cv_input,pred)\n",
    "        plt.title('Confusion matrix of Bernoulli Naive Bayes')\n",
    "        plt.show()\n",
    "        print('*'*200)"
   ]
  },
  {
   "cell_type": "markdown",
   "metadata": {
    "_uuid": "cb10742eb656c97930a67325dee604363e839186"
   },
   "source": [
    "**7.2 Multinomial Naive Bayes**"
   ]
  },
  {
   "cell_type": "code",
   "execution_count": 43,
   "metadata": {
    "_uuid": "4b170f47c6e0d6fbc1b64a2b1ea8e5b22f1b30fa"
   },
   "outputs": [],
   "source": [
    "# Function for Multinomial Naive Bayes\n",
    "\n",
    "def runNB_Multi(X_tr_input,x_cv_input,y_tr_input,y_cv_input,VectorizationType):\n",
    "\n",
    "        cv_scores = []\n",
    "        Alpha_value = []\n",
    "            \n",
    "        j=0\n",
    "        for i in range(1,30,2):\n",
    "                nb = MultinomialNB(alpha=i)\n",
    "                scores = cross_val_score(nb, X_tr_input, y_tr_input, cv=10, scoring='accuracy')\n",
    "                cv_scores.append(scores.mean())\n",
    "                Alpha_value.append(i)                \n",
    "                print('For Alpha = ', i,'Accuracy Score = ', cv_scores[j])\n",
    "                j+=1\n",
    "        print(\"MULTINOMIAL NAIVE BAYES\")\n",
    "        plt.plot(Alpha_value,cv_scores,'.-')\n",
    "        plt.title('Alpha Value vs CV Scores')\n",
    "        plt.ylabel('CV Scores')\n",
    "        plt.xlabel('Alpha Value')\n",
    "        plt.show()\n",
    "        \n",
    "        # changing to misclassification error\n",
    "        MSE = [1 - x for x in cv_scores]\n",
    "                \n",
    "        # determining best alpha\n",
    "        alpha_optimum = Alpha_value[MSE.index(min(MSE))]\n",
    "        nb = MultinomialNB(alpha=alpha_optimum)\n",
    "        \n",
    "        # fitting the model on crossvalidation train\n",
    "        nb.fit(X_tr_input, y_tr_input)\n",
    "        \n",
    "        # predict the response on the crossvalidation train\n",
    "        mu_pred = nb.predict(x_cv_input)\n",
    "        print('The Accuracy of Multinomial Naive Bayes with Alpha Value = ',alpha_optimum,'and ',VectorizationType,\n",
    "        ' vectorization is: ',np.round((accuracy_score(y_cv_input, mu_pred)*100),decimals = 2))\n",
    "        mu_final_results[VectorizationType] =accuracy_score(y_cv_input,mu_pred)*100\n",
    "        \n",
    "        print(\"The Misclassification error for each Alpha value is : \", np.round(MSE,3))\n",
    "        print('\\nDetails for ',VectorizationType,'Vectorization:')\n",
    "        print('*'*50)\n",
    "        print('F1 score for Multinomial Naive Bayes algorithm with alpha =',alpha_optimum,' is ' , np.round((f1_score(y_cv_input, mu_pred,average= 'macro')*100),decimals = 2))\n",
    "        print('Recall for Multinomial Naive Bayes agorithm with alpha =',alpha_optimum,' is ' , np.round((recall_score(y_cv_input, mu_pred,average= 'macro')*100),decimals = 2))\n",
    "        print('Precision for Multinomial Naive Bayes algorithm with aplha =',alpha_optimum,' is ' , np.round((precision_score(y_cv_input, mu_pred,average= 'macro')*100),decimals = 2))\n",
    "        print ('\\n Classification report for Multinomial Naive Bayes algorithm with alpha =',alpha_optimum,' is \\n ' , classification_report(y_cv_input,mu_pred))\n",
    "        \n",
    "        # Plot Confusion Matrix, F1 Score, Recall, Precision and Classification Report\n",
    "        from sklearn.metrics import confusion_matrix\n",
    "        import scikitplot.metrics as skplt\n",
    "        skplt.plot_confusion_matrix(y_cv_input,mu_pred)\n",
    "        plt.title('Confusion matrix of Multinomial Naive Bayes')\n",
    "        plt.show()"
   ]
  },
  {
   "cell_type": "markdown",
   "metadata": {
    "_uuid": "d5f53c7d131e2eadf89e4ebbff40bc40cd35d937"
   },
   "source": [
    "# Observations:-\n",
    "\n",
    "    * I 've splitted the data into train, test and cross validation data set.\n",
    "    \n",
    "    * I've build a function to find optimal Alpha value for Naive Bayes.\n",
    "    \n",
    "    * I've created a odd list (Alpha_Value) of Alpha for Naive Bayes and an empty list to hold cross validation scores (cv_scores)\n",
    "    \n",
    "    * I've performed Bernoulli Naive Bayes & Multinomial Naive Bayes\n",
    "    \n",
    "    * I've printed the values of Accuracy, F1 Score, Recall, Precision, confusion matrix for Naive Bayes."
   ]
  },
  {
   "cell_type": "markdown",
   "metadata": {
    "_uuid": "2c4f0ca926948d9951b2c2c7c4a3c309565719f4"
   },
   "source": [
    "# 8. Feature Generation Techniques"
   ]
  },
  {
   "cell_type": "markdown",
   "metadata": {
    "_uuid": "49aa7a2faff91257a87810aa66362f304c0e4152"
   },
   "source": [
    "# 8.1 Using Bag of Words"
   ]
  },
  {
   "cell_type": "code",
   "execution_count": 44,
   "metadata": {
    "_uuid": "685e1212c486b7a961815cad0897ade14bf7bfa7"
   },
   "outputs": [
    {
     "name": "stdout",
     "output_type": "stream",
     "text": [
      "For Alpha =  1 Accuracy Score =  0.8820000573417562\n",
      "For Alpha =  3 Accuracy Score =  0.8714693242347975\n",
      "For Alpha =  5 Accuracy Score =  0.8703264045916189\n",
      "For Alpha =  7 Accuracy Score =  0.8708162588190266\n",
      "For Alpha =  9 Accuracy Score =  0.8724489243792954\n",
      "For Alpha =  11 Accuracy Score =  0.8733061005711896\n",
      "For Alpha =  13 Accuracy Score =  0.8740612525911834\n",
      "For Alpha =  15 Accuracy Score =  0.8746326770019305\n",
      "For Alpha =  17 Accuracy Score =  0.8750000114501615\n",
      "For Alpha =  19 Accuracy Score =  0.8754489827172354\n",
      "For Alpha =  21 Accuracy Score =  0.8756122563549205\n",
      "For Alpha =  23 Accuracy Score =  0.8759591826364865\n",
      "For Alpha =  25 Accuracy Score =  0.8762653009230845\n",
      "For Alpha =  27 Accuracy Score =  0.8764285745624697\n",
      "For Alpha =  29 Accuracy Score =  0.8764693950547819\n",
      "BERNOULLI NAIVE BAYES\n"
     ]
    },
    {
     "data": {
      "image/png": "[encoded data removed]",
      "text/plain": [
       "<Figure size 432x288 with 1 Axes>"
      ]
     },
     "metadata": {},
     "output_type": "display_data"
    },
    {
     "name": "stdout",
     "output_type": "stream",
     "text": [
      "The Accuracy of Bernoulli Naive Bayes with Alpha Value =  1 and  Bag of Words  vectorization is:  88.64\n",
      "The Misclassification error for each Alpha value is :  [0.118 0.129 0.13  0.129 0.128 0.127 0.126 0.125 0.125 0.125 0.124 0.124\n",
      " 0.124 0.124 0.124]\n",
      "\n",
      "Details for  Bag of Words Vectorization:\n",
      "**************************************************\n",
      "Accuracy for Bernoulli Naive Bayes algorithm with alpha = 1  is  88.64\n",
      "F1 score for Bernoulli Naive Bayes algorithm with alpha = 1  is  70.73\n",
      "Recall for Bernoulli Naive Bayes agorithm with alpha = 1  is  68.39\n",
      "Precision for Bernoulli Naive Bayes algorithm with aplha = 1  is  74.32\n",
      "\n",
      " Classification report for Bernoulli Naive Bayes algorithm with alpha = 1  is \n",
      "               precision    recall  f1-score   support\n",
      "\n",
      "   negative       0.57      0.41      0.48      2646\n",
      "   positive       0.92      0.95      0.94     18354\n",
      "\n",
      "avg / total       0.87      0.89      0.88     21000\n",
      "\n"
     ]
    },
    {
     "data": {
      "image/png": "[encoded data removed]",
      "text/plain": [
       "<Figure size 432x288 with 2 Axes>"
      ]
     },
     "metadata": {},
     "output_type": "display_data"
    },
    {
     "name": "stdout",
     "output_type": "stream",
     "text": [
      "********************************************************************************************************************************************************************************************************\n",
      "For Alpha =  1 Accuracy Score =  0.9062041600090132\n",
      "For Alpha =  3 Accuracy Score =  0.9015305698033964\n",
      "For Alpha =  5 Accuracy Score =  0.8904081998597538\n",
      "For Alpha =  7 Accuracy Score =  0.8841020107004722\n",
      "For Alpha =  9 Accuracy Score =  0.8807754967139536\n",
      "For Alpha =  11 Accuracy Score =  0.8790407986553216\n",
      "For Alpha =  13 Accuracy Score =  0.8780816191425336\n",
      "For Alpha =  15 Accuracy Score =  0.8777755091857984\n",
      "For Alpha =  17 Accuracy Score =  0.8773877582444392\n",
      "For Alpha =  19 Accuracy Score =  0.8773673500811737\n",
      "For Alpha =  21 Accuracy Score =  0.8773673500811737\n",
      "For Alpha =  23 Accuracy Score =  0.8772449052656635\n",
      "For Alpha =  25 Accuracy Score =  0.8771836807758675\n",
      "For Alpha =  27 Accuracy Score =  0.8771836807758675\n",
      "For Alpha =  29 Accuracy Score =  0.8771632726126022\n",
      "MULTINOMIAL NAIVE BAYES\n"
     ]
    },
    {
     "data": {
      "image/png": "[encoded data removed]",
      "text/plain": [
       "<Figure size 432x288 with 1 Axes>"
      ]
     },
     "metadata": {},
     "output_type": "display_data"
    },
    {
     "name": "stdout",
     "output_type": "stream",
     "text": [
      "The Accuracy of Multinomial Naive Bayes with Alpha Value =  1 and  Bag of Words  vectorization is:  91.21\n",
      "The Misclassification error for each Alpha value is :  [0.094 0.098 0.11  0.116 0.119 0.121 0.122 0.122 0.123 0.123 0.123 0.123\n",
      " 0.123 0.123 0.123]\n",
      "\n",
      "Details for  Bag of Words Vectorization:\n",
      "**************************************************\n",
      "F1 score for Multinomial Naive Bayes algorithm with alpha = 1  is  77.85\n",
      "Recall for Multinomial Naive Bayes agorithm with alpha = 1  is  75.16\n",
      "Precision for Multinomial Naive Bayes algorithm with aplha = 1  is  81.58\n",
      "\n",
      " Classification report for Multinomial Naive Bayes algorithm with alpha = 1  is \n",
      "               precision    recall  f1-score   support\n",
      "\n",
      "   negative       0.70      0.54      0.61      2646\n",
      "   positive       0.94      0.97      0.95     18354\n",
      "\n",
      "avg / total       0.91      0.91      0.91     21000\n",
      "\n"
     ]
    },
    {
     "data": {
      "image/png": "[encoded data removed]",
      "text/plain": [
       "<Figure size 432x288 with 2 Axes>"
      ]
     },
     "metadata": {},
     "output_type": "display_data"
    }
   ],
   "source": [
    "#Bag of Words\n",
    "# split the data set into train and test\n",
    "X_1, X_test, y_1, y_test = cross_validation.train_test_split(final['CleanedText'], final['Score'], random_state = 0,test_size = 0.3)\n",
    "\n",
    "# split the train data set into cross validation train and cross validation test\n",
    "X_tr, X_cv, y_tr, y_cv = cross_validation.train_test_split(X_1, y_1, test_size=0.3)\n",
    "\n",
    "vect = CountVectorizer().fit(X_tr)\n",
    "X_tr_vectorized = vect.transform(X_tr)\n",
    "x_cv_vectorized = vect.transform(X_cv)\n",
    "runNB(X_tr_vectorized, x_cv_vectorized, y_tr, y_cv,'Bag of Words')\n",
    "runNB_Multi(X_tr_vectorized, x_cv_vectorized, y_tr, y_cv,'Bag of Words')"
   ]
  },
  {
   "cell_type": "markdown",
   "metadata": {
    "_uuid": "fbd2ab56b8016e7d3377499d67760cda0135f6d6"
   },
   "source": [
    "# 8.2 Using TF-IDF"
   ]
  },
  {
   "cell_type": "code",
   "execution_count": 45,
   "metadata": {
    "_uuid": "6d5748f6464d3b5728443297aa92e58c5709a061"
   },
   "outputs": [
    {
     "name": "stdout",
     "output_type": "stream",
     "text": [
      "For Alpha =  1 Accuracy Score =  0.8881429603524085\n",
      "For Alpha =  3 Accuracy Score =  0.8732245845379092\n",
      "For Alpha =  5 Accuracy Score =  0.8660204611964424\n",
      "For Alpha =  7 Accuracy Score =  0.8623673374835311\n",
      "For Alpha =  9 Accuracy Score =  0.8606938097765358\n",
      "For Alpha =  11 Accuracy Score =  0.8593468626660629\n",
      "For Alpha =  13 Accuracy Score =  0.8594080746534145\n",
      "For Alpha =  15 Accuracy Score =  0.8605712983170223\n",
      "For Alpha =  17 Accuracy Score =  0.8607753507943053\n",
      "For Alpha =  19 Accuracy Score =  0.8609590159270303\n",
      "For Alpha =  21 Accuracy Score =  0.8615508651556685\n",
      "For Alpha =  23 Accuracy Score =  0.8620202570782519\n",
      "For Alpha =  25 Accuracy Score =  0.8627753799496753\n",
      "For Alpha =  27 Accuracy Score =  0.8637141346411721\n",
      "For Alpha =  29 Accuracy Score =  0.8646120979974269\n",
      "BERNOULLI NAIVE BAYES\n"
     ]
    },
    {
     "data": {
      "image/png": "[encoded data removed]",
      "text/plain": [
       "<Figure size 432x288 with 1 Axes>"
      ]
     },
     "metadata": {},
     "output_type": "display_data"
    },
    {
     "name": "stdout",
     "output_type": "stream",
     "text": [
      "The Accuracy of Bernoulli Naive Bayes with Alpha Value =  1 and  TF-IDF  vectorization is:  88.78\n",
      "The Misclassification error for each Alpha value is :  [0.112 0.127 0.134 0.138 0.139 0.141 0.141 0.139 0.139 0.139 0.138 0.138\n",
      " 0.137 0.136 0.135]\n",
      "\n",
      "Details for  TF-IDF Vectorization:\n",
      "**************************************************\n",
      "Accuracy for Bernoulli Naive Bayes algorithm with alpha = 1  is  88.78\n",
      "F1 score for Bernoulli Naive Bayes algorithm with alpha = 1  is  74.63\n",
      "Recall for Bernoulli Naive Bayes agorithm with alpha = 1  is  74.74\n",
      "Precision for Bernoulli Naive Bayes algorithm with aplha = 1  is  74.52\n",
      "\n",
      " Classification report for Bernoulli Naive Bayes algorithm with alpha = 1  is \n",
      "               precision    recall  f1-score   support\n",
      "\n",
      "   negative       0.55      0.56      0.56      2646\n",
      "   positive       0.94      0.94      0.94     18354\n",
      "\n",
      "avg / total       0.89      0.89      0.89     21000\n",
      "\n"
     ]
    },
    {
     "data": {
      "image/png": "[encoded data removed]",
      "text/plain": [
       "<Figure size 432x288 with 2 Axes>"
      ]
     },
     "metadata": {},
     "output_type": "display_data"
    },
    {
     "name": "stdout",
     "output_type": "stream",
     "text": [
      "********************************************************************************************************************************************************************************************************\n",
      "For Alpha =  1 Accuracy Score =  0.8861632851932452\n",
      "For Alpha =  3 Accuracy Score =  0.8784285995656583\n",
      "For Alpha =  5 Accuracy Score =  0.8774081622419228\n",
      "For Alpha =  7 Accuracy Score =  0.8773061297554593\n",
      "For Alpha =  9 Accuracy Score =  0.8773265337546432\n",
      "For Alpha =  11 Accuracy Score =  0.8773265337546432\n",
      "For Alpha =  13 Accuracy Score =  0.8773265337546432\n",
      "For Alpha =  15 Accuracy Score =  0.8773265337546432\n",
      "For Alpha =  17 Accuracy Score =  0.8773265337546432\n",
      "For Alpha =  19 Accuracy Score =  0.8773265337546432\n",
      "For Alpha =  21 Accuracy Score =  0.8773265337546432\n",
      "For Alpha =  23 Accuracy Score =  0.8773265337546432\n",
      "For Alpha =  25 Accuracy Score =  0.8773265337546432\n",
      "For Alpha =  27 Accuracy Score =  0.8773265337546432\n",
      "For Alpha =  29 Accuracy Score =  0.8773265337546432\n",
      "MULTINOMIAL NAIVE BAYES\n"
     ]
    },
    {
     "data": {
      "image/png": "[encoded data removed]",
      "text/plain": [
       "<Figure size 432x288 with 1 Axes>"
      ]
     },
     "metadata": {},
     "output_type": "display_data"
    },
    {
     "name": "stdout",
     "output_type": "stream",
     "text": [
      "The Accuracy of Multinomial Naive Bayes with Alpha Value =  1 and  TF-IDF  vectorization is:  88.4\n",
      "The Misclassification error for each Alpha value is :  [0.114 0.122 0.123 0.123 0.123 0.123 0.123 0.123 0.123 0.123 0.123 0.123\n",
      " 0.123 0.123 0.123]\n",
      "\n",
      "Details for  TF-IDF Vectorization:\n",
      "**************************************************\n",
      "F1 score for Multinomial Naive Bayes algorithm with alpha = 1  is  55.36\n",
      "Recall for Multinomial Naive Bayes agorithm with alpha = 1  is  54.6\n",
      "Precision for Multinomial Naive Bayes algorithm with aplha = 1  is  87.29\n",
      "\n",
      " Classification report for Multinomial Naive Bayes algorithm with alpha = 1  is \n",
      "               precision    recall  f1-score   support\n",
      "\n",
      "   negative       0.86      0.09      0.17      2646\n",
      "   positive       0.88      1.00      0.94     18354\n",
      "\n",
      "avg / total       0.88      0.88      0.84     21000\n",
      "\n"
     ]
    },
    {
     "data": {
      "image/png": "[encoded data removed]",
      "text/plain": [
       "<Figure size 432x288 with 2 Axes>"
      ]
     },
     "metadata": {},
     "output_type": "display_data"
    }
   ],
   "source": [
    "# Applying TFIDF\n",
    "\n",
    "vect_tfidf = TfidfVectorizer(min_df = 5).fit(X_tr)\n",
    "\n",
    "# Vectorizing the datsets\n",
    "X_tr_vectorized = vect_tfidf.transform(X_tr)\n",
    "x_cv_vectorized = vect_tfidf.transform(X_cv)\n",
    "\n",
    "runNB(X_tr_vectorized,x_cv_vectorized,y_tr,y_cv,'TF-IDF')\n",
    "runNB_Multi(X_tr_vectorized, x_cv_vectorized, y_tr, y_cv,'TF-IDF')"
   ]
  },
  {
   "cell_type": "markdown",
   "metadata": {
    "_uuid": "8688bc1baa8f2fa7bf3253d435e8f8c32ffc2b0a",
    "collapsed": true
   },
   "source": []
  },
  {
   "cell_type": "markdown",
   "metadata": {
    "_uuid": "dab345c85ac9e46ebdf7892a63b6ff2042e16c36",
    "collapsed": true
   },
   "source": [
    "# 8. Naive Bayes on Amazon Fine Food Reviews Data set - Tabular Result"
   ]
  },
  {
   "cell_type": "markdown",
   "metadata": {},
   "source": [
    "**8.1 Bernoulli Naive Bayes**"
   ]
  },
  {
   "cell_type": "code",
   "execution_count": 46,
   "metadata": {
    "_uuid": "8d8f9737ea99ae605998c80cc5e7f1ff46b61579"
   },
   "outputs": [
    {
     "name": "stdout",
     "output_type": "stream",
     "text": [
      "BERNOULLI NAIVE BAYES\n"
     ]
    },
    {
     "data": {
      "text/html": [
       "<div>\n",
       "<style scoped>\n",
       "    .dataframe tbody tr th:only-of-type {\n",
       "        vertical-align: middle;\n",
       "    }\n",
       "\n",
       "    .dataframe tbody tr th {\n",
       "        vertical-align: top;\n",
       "    }\n",
       "\n",
       "    .dataframe thead th {\n",
       "        text-align: right;\n",
       "    }\n",
       "</style>\n",
       "<table border=\"1\" class=\"dataframe\">\n",
       "  <thead>\n",
       "    <tr style=\"text-align: right;\">\n",
       "      <th></th>\n",
       "      <th>Model</th>\n",
       "      <th>Hyper Parameter (Alpha=)</th>\n",
       "      <th>Accuracy (%)</th>\n",
       "      <th>Test Error</th>\n",
       "      <th>F1 Score (%)</th>\n",
       "      <th>Recall (%)</th>\n",
       "      <th>Precision (%)</th>\n",
       "    </tr>\n",
       "  </thead>\n",
       "  <tbody>\n",
       "    <tr>\n",
       "      <th>0</th>\n",
       "      <td>BOW</td>\n",
       "      <td>1</td>\n",
       "      <td>88.64</td>\n",
       "      <td>11.8</td>\n",
       "      <td>70.73</td>\n",
       "      <td>68.39</td>\n",
       "      <td>74.32</td>\n",
       "    </tr>\n",
       "    <tr>\n",
       "      <th>1</th>\n",
       "      <td>TF-IDF</td>\n",
       "      <td>1</td>\n",
       "      <td>88.78</td>\n",
       "      <td>11.2</td>\n",
       "      <td>74.63</td>\n",
       "      <td>74.74</td>\n",
       "      <td>74.52</td>\n",
       "    </tr>\n",
       "  </tbody>\n",
       "</table>\n",
       "</div>"
      ],
      "text/plain": [
       "    Model  Hyper Parameter (Alpha=)  Accuracy (%)  Test Error  F1 Score (%)  \\\n",
       "0     BOW                         1         88.64        11.8         70.73   \n",
       "1  TF-IDF                         1         88.78        11.2         74.63   \n",
       "\n",
       "   Recall (%)  Precision (%)  \n",
       "0       68.39          74.32  \n",
       "1       74.74          74.52  "
      ]
     },
     "execution_count": 46,
     "metadata": {},
     "output_type": "execute_result"
    }
   ],
   "source": [
    "print(\"BERNOULLI NAIVE BAYES\")\n",
    "dataframe = pd.DataFrame(\n",
    "{\n",
    "    \n",
    "    \"Model\": ['BOW','TF-IDF'],\n",
    "    \"Hyper Parameter (Alpha=)\": [1,1],\n",
    "    \"Accuracy (%)\": [88.64,88.78],\n",
    "    \"Test Error\": [11.8,11.2],\n",
    "    \"F1 Score (%)\": [70.73,74.63],\n",
    "    \"Recall (%)\": [68.39,74.74],\n",
    "    \"Precision (%)\": [74.32,74.52]\n",
    "}\n",
    "\n",
    ")\n",
    "dataframe"
   ]
  },
  {
   "cell_type": "markdown",
   "metadata": {
    "_uuid": "b3bd2b0882ca1278635a7afd82d870a8bd812cea",
    "collapsed": true
   },
   "source": [
    "**8.2 Multinomial Naive Bayes**"
   ]
  },
  {
   "cell_type": "code",
   "execution_count": 47,
   "metadata": {
    "_uuid": "ce69087146bbdd55794902f1699c70d620ad032e"
   },
   "outputs": [
    {
     "name": "stdout",
     "output_type": "stream",
     "text": [
      "Multinomial NAIVE BAYES\n"
     ]
    },
    {
     "data": {
      "text/html": [
       "<div>\n",
       "<style scoped>\n",
       "    .dataframe tbody tr th:only-of-type {\n",
       "        vertical-align: middle;\n",
       "    }\n",
       "\n",
       "    .dataframe tbody tr th {\n",
       "        vertical-align: top;\n",
       "    }\n",
       "\n",
       "    .dataframe thead th {\n",
       "        text-align: right;\n",
       "    }\n",
       "</style>\n",
       "<table border=\"1\" class=\"dataframe\">\n",
       "  <thead>\n",
       "    <tr style=\"text-align: right;\">\n",
       "      <th></th>\n",
       "      <th>Model</th>\n",
       "      <th>Hyper Parameter (Alpha=)</th>\n",
       "      <th>Accuracy (%)</th>\n",
       "      <th>Test Error</th>\n",
       "      <th>F1 Score (%)</th>\n",
       "      <th>Recall (%)</th>\n",
       "      <th>Precision (%)</th>\n",
       "    </tr>\n",
       "  </thead>\n",
       "  <tbody>\n",
       "    <tr>\n",
       "      <th>0</th>\n",
       "      <td>BOW</td>\n",
       "      <td>1</td>\n",
       "      <td>91.21</td>\n",
       "      <td>9.4</td>\n",
       "      <td>77.85</td>\n",
       "      <td>75.16</td>\n",
       "      <td>81.58</td>\n",
       "    </tr>\n",
       "    <tr>\n",
       "      <th>1</th>\n",
       "      <td>TF-IDF</td>\n",
       "      <td>1</td>\n",
       "      <td>88.40</td>\n",
       "      <td>11.4</td>\n",
       "      <td>55.36</td>\n",
       "      <td>54.60</td>\n",
       "      <td>87.29</td>\n",
       "    </tr>\n",
       "  </tbody>\n",
       "</table>\n",
       "</div>"
      ],
      "text/plain": [
       "    Model  Hyper Parameter (Alpha=)  Accuracy (%)  Test Error  F1 Score (%)  \\\n",
       "0     BOW                         1         91.21         9.4         77.85   \n",
       "1  TF-IDF                         1         88.40        11.4         55.36   \n",
       "\n",
       "   Recall (%)  Precision (%)  \n",
       "0       75.16          81.58  \n",
       "1       54.60          87.29  "
      ]
     },
     "execution_count": 47,
     "metadata": {},
     "output_type": "execute_result"
    }
   ],
   "source": [
    "print(\"Multinomial NAIVE BAYES\")\n",
    "dataframe = pd.DataFrame(\n",
    "{\n",
    "    \n",
    "    \"Model\": ['BOW','TF-IDF'],\n",
    "    \"Hyper Parameter (Alpha=)\": [1,1],\n",
    "    \"Accuracy (%)\": [91.21,88.4],\n",
    "    \"Test Error\": [9.4,11.4],\n",
    "    \"F1 Score (%)\": [77.85,55.36],\n",
    "    \"Recall (%)\": [75.16,54.6],\n",
    "    \"Precision (%)\": [81.58,87.29]\n",
    "}\n",
    "\n",
    ")\n",
    "dataframe"
   ]
  },
  {
   "cell_type": "markdown",
   "metadata": {
    "_uuid": "059f25b0ce6fb08ac8610633b5d8373a3178ae3a",
    "collapsed": true
   },
   "source": [
    "# 9. Conclusion: \n",
    "    \n",
    "* The result of feature generation techniques and machine learning algorithms vary by application. But by comparing the accuracy of 2 developed models, Multinomial Naive Bayes with TF-IDF feature generation technique gives accuracy more than 91% which is the best to predict the polarity of reviews among all models. The best optimal Alpha value is 1."
   ]
  },
  {
   "cell_type": "code",
   "execution_count": null,
   "metadata": {
    "_uuid": "bb0fb3639e8e88d9647ab0e298dbd7401a29cef7",
    "collapsed": true
   },
   "outputs": [],
   "source": []
  },
  {
   "cell_type": "code",
   "execution_count": null,
   "metadata": {
    "_uuid": "5942cad6c150ad47cd5f5e0fa0c2d5ac15194b82",
    "collapsed": true
   },
   "outputs": [],
   "source": []
  }
 ],
 "metadata": {
  "kernelspec": {
   "display_name": "Python 3",
   "language": "python",
   "name": "python3"
  },
  "language_info": {
   "codemirror_mode": {
    "name": "ipython",
    "version": 3
   },
   "file_extension": ".py",
   "mimetype": "text/x-python",
   "name": "python",
   "nbconvert_exporter": "python",
   "pygments_lexer": "ipython3",
   "version": "3.6.5"
  }
 },
 "nbformat": 4,
 "nbformat_minor": 1
}
